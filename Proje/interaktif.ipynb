{
 "cells": [
  {
   "cell_type": "code",
   "execution_count": 1,
   "metadata": {},
   "outputs": [],
   "source": [
    "import pandas as pd\n",
    "import numpy as np\n",
    "from bokeh.plotting import figure, output_notebook, show\n",
    "import plotly.graph_objects as go\n",
    "import plotly.express as px\n",
    "import matplotlib.pyplot as plt\n",
    "import seaborn as sns"
   ]
  },
  {
   "cell_type": "code",
   "execution_count": 2,
   "metadata": {},
   "outputs": [],
   "source": [
    "#Benim amelelik\n",
    "'''\n",
    "path1 = 'C:/Users/Ali Arda/Desktop/Dosyalar/Kodlar/İsar/Proje/DataSet_Global2000/aroissues-forbes-global-2000-2008-2019/G2000_8.xlsx'\n",
    "df_8 = pd.read_excel(path1)\n",
    "df_8 = df_8.head(200)\n",
    "\n",
    "path2 = 'C:/Users/Ali Arda/Desktop/Dosyalar/Kodlar/İsar/Proje/DataSet_Global2000/aroissues-forbes-global-2000-2008-2019/G2000_9.xlsx'\n",
    "df_9 = pd.read_excel(path2)\n",
    "df_9 = df_9.head(200)\n",
    "\n",
    "path3 = 'C:/Users/Ali Arda/Desktop/Dosyalar/Kodlar/İsar/Proje/DataSet_Global2000/aroissues-forbes-global-2000-2008-2019/G2000_10.xlsx'\n",
    "df_10 = pd.read_excel(path3)\n",
    "df_10 = df_10.head(200)\n",
    "\n",
    "path4 = 'C:/Users/Ali Arda/Desktop/Dosyalar/Kodlar/İsar/Proje/DataSet_Global2000/aroissues-forbes-global-2000-2008-2019/G2000_11.xlsx'\n",
    "df_11 = pd.read_excel(path4)\n",
    "df_11 = df_11.head(200)\n",
    "\n",
    "path = 'C:/Users/Ali Arda/Desktop/Dosyalar/Kodlar/İsar/Proje/DataSet_Global2000/aroissues-forbes-global-2000-2008-2019/G2000_12.xlsx'\n",
    "df_12 = pd.read_excel(path)\n",
    "df_12 = df_12.head(200)\n",
    "\n",
    "path = 'C:/Users/Ali Arda/Desktop/Dosyalar/Kodlar/İsar/Proje/DataSet_Global2000/aroissues-forbes-global-2000-2008-2019/G2000_13.xlsx'\n",
    "df_13 = pd.read_excel(path)\n",
    "df_13 = df_13.head(200)\n",
    "\n",
    "path = 'C:/Users/Ali Arda/Desktop/Dosyalar/Kodlar/İsar/Proje/DataSet_Global2000/aroissues-forbes-global-2000-2008-2019/G2000_14.xlsx'\n",
    "df_14 = pd.read_excel(path)\n",
    "df_14 = df_14.head(200)\n",
    "\n",
    "path = 'C:/Users/Ali Arda/Desktop/Dosyalar/Kodlar/İsar/Proje/DataSet_Global2000/aroissues-forbes-global-2000-2008-2019/G2000_15.xlsx'\n",
    "df_15 = pd.read_excel(path)\n",
    "df_15 = df_15.head(200)\n",
    "\n",
    "path = 'C:/Users/Ali Arda/Desktop/Dosyalar/Kodlar/İsar/Proje/DataSet_Global2000/aroissues-forbes-global-2000-2008-2019/G2000_16.xlsx'\n",
    "df_16 = pd.read_excel(path)\n",
    "df_16 = df_16.head(200)\n",
    "\n",
    "path = 'C:/Users/Ali Arda/Desktop/Dosyalar/Kodlar/İsar/Proje/DataSet_Global2000/aroissues-forbes-global-2000-2008-2019/G2000_17.xlsx'\n",
    "df_17 = pd.read_excel(path)\n",
    "df_17 = df_17.head(200)\n",
    "\n",
    "path = 'C:/Users/Ali Arda/Desktop/Dosyalar/Kodlar/İsar/Proje/DataSet_Global2000/aroissues-forbes-global-2000-2008-2019/G2000_18.xlsx'\n",
    "df_18 = pd.read_excel(path)\n",
    "df_18 = df_18.head(200)\n",
    "\n",
    "path = 'C:/Users/Ali Arda/Desktop/Dosyalar/Kodlar/İsar/Proje/DataSet_Global2000/aroissues-forbes-global-2000-2008-2019/G2000_19.xlsx'\n",
    "df_19 = pd.read_excel(path)\n",
    "df_19 = df_19.head(200)\n",
    "\n",
    "path = 'C:/Users/Ali Arda/Desktop/Dosyalar/Kodlar/İsar/Proje/DataSet_Global2000/aroissues-forbes-global-2000-2008-2019/G2000_20.xlsx'\n",
    "df_20 = pd.read_excel(path)\n",
    "df_20 = df_20.head(200)\n",
    "\n",
    "path = 'C:/Users/Ali Arda/Desktop/Dosyalar/Kodlar/İsar/Proje/DataSet_Global2000/aroissues-forbes-global-2000-2008-2019/G2000_21.xlsx'\n",
    "df_21 = pd.read_excel(path)\n",
    "df_21 = df_21.head(200)\n",
    "\n",
    "path = 'C:/Users/Ali Arda/Desktop/Dosyalar/Kodlar/İsar/Proje/DataSet_Global2000/aroissues-forbes-global-2000-2008-2019/G2000_22.xlsx'\n",
    "df_22 = pd.read_excel(path)\n",
    "df_22 = df_22.head(200)\n",
    "'''"
   ]
  },
  {
   "cell_type": "code",
   "execution_count": 2,
   "metadata": {},
   "outputs": [],
   "source": [
    "#Chat Gpt Show\n",
    "\n",
    "paths = ['C:/Users/Ali Arda/Desktop/Dosyalar/Kodlar/İsar/Proje/DataSet_Global2000/aroissues-forbes-global-2000-2008-2019/G2000_{}.xlsx'.format(i) for i in range(8, 23)]\n",
    "dfs = [pd.read_excel(path).head(200) for path in paths]\n",
    "\n",
    "df_8, df_9, df_10, df_11, df_12, df_13, df_14, df_15, df_16, df_17, df_18, df_19, df_20, df_21, df_22 = dfs"
   ]
  },
  {
   "cell_type": "code",
   "execution_count": 3,
   "metadata": {},
   "outputs": [],
   "source": [
    "dfs = [globals()[f\"df_{i}\"] for i in range(8, 23)]\n",
    "katergoriler = ['Industry', 'Country']\n",
    "\n",
    "for df in dfs:\n",
    "    for kolon in katergoriler:\n",
    "        df[kolon] = df[kolon].astype('category')\n"
   ]
  },
  {
   "cell_type": "code",
   "execution_count": 4,
   "metadata": {},
   "outputs": [
    {
     "data": {
      "application/vnd.plotly.v1+json": {
       "config": {
        "plotlyServerURL": "https://plot.ly"
       },
       "data": [
        {
         "line": {
          "color": "blue",
          "width": 3
         },
         "name": "piyasa değeri",
         "type": "scatter",
         "x": [
          2008,
          2009,
          2010,
          2011,
          2012,
          2013,
          2014,
          2015,
          2016,
          2017,
          2018,
          2019,
          2020,
          2021,
          2022
         ],
         "y": [
          18.9929,
          10.30064,
          15.56874,
          17.628332,
          17.915271,
          18.91277,
          21.325376,
          22.793821,
          21.55599,
          23.693488,
          27.957345,
          28.742427399999997,
          30.181314,
          42.944143,
          41.955546
         ]
        }
       ],
       "layout": {
        "template": {
         "data": {
          "bar": [
           {
            "error_x": {
             "color": "#2a3f5f"
            },
            "error_y": {
             "color": "#2a3f5f"
            },
            "marker": {
             "line": {
              "color": "#E5ECF6",
              "width": 0.5
             },
             "pattern": {
              "fillmode": "overlay",
              "size": 10,
              "solidity": 0.2
             }
            },
            "type": "bar"
           }
          ],
          "barpolar": [
           {
            "marker": {
             "line": {
              "color": "#E5ECF6",
              "width": 0.5
             },
             "pattern": {
              "fillmode": "overlay",
              "size": 10,
              "solidity": 0.2
             }
            },
            "type": "barpolar"
           }
          ],
          "carpet": [
           {
            "aaxis": {
             "endlinecolor": "#2a3f5f",
             "gridcolor": "white",
             "linecolor": "white",
             "minorgridcolor": "white",
             "startlinecolor": "#2a3f5f"
            },
            "baxis": {
             "endlinecolor": "#2a3f5f",
             "gridcolor": "white",
             "linecolor": "white",
             "minorgridcolor": "white",
             "startlinecolor": "#2a3f5f"
            },
            "type": "carpet"
           }
          ],
          "choropleth": [
           {
            "colorbar": {
             "outlinewidth": 0,
             "ticks": ""
            },
            "type": "choropleth"
           }
          ],
          "contour": [
           {
            "colorbar": {
             "outlinewidth": 0,
             "ticks": ""
            },
            "colorscale": [
             [
              0,
              "#0d0887"
             ],
             [
              0.1111111111111111,
              "#46039f"
             ],
             [
              0.2222222222222222,
              "#7201a8"
             ],
             [
              0.3333333333333333,
              "#9c179e"
             ],
             [
              0.4444444444444444,
              "#bd3786"
             ],
             [
              0.5555555555555556,
              "#d8576b"
             ],
             [
              0.6666666666666666,
              "#ed7953"
             ],
             [
              0.7777777777777778,
              "#fb9f3a"
             ],
             [
              0.8888888888888888,
              "#fdca26"
             ],
             [
              1,
              "#f0f921"
             ]
            ],
            "type": "contour"
           }
          ],
          "contourcarpet": [
           {
            "colorbar": {
             "outlinewidth": 0,
             "ticks": ""
            },
            "type": "contourcarpet"
           }
          ],
          "heatmap": [
           {
            "colorbar": {
             "outlinewidth": 0,
             "ticks": ""
            },
            "colorscale": [
             [
              0,
              "#0d0887"
             ],
             [
              0.1111111111111111,
              "#46039f"
             ],
             [
              0.2222222222222222,
              "#7201a8"
             ],
             [
              0.3333333333333333,
              "#9c179e"
             ],
             [
              0.4444444444444444,
              "#bd3786"
             ],
             [
              0.5555555555555556,
              "#d8576b"
             ],
             [
              0.6666666666666666,
              "#ed7953"
             ],
             [
              0.7777777777777778,
              "#fb9f3a"
             ],
             [
              0.8888888888888888,
              "#fdca26"
             ],
             [
              1,
              "#f0f921"
             ]
            ],
            "type": "heatmap"
           }
          ],
          "heatmapgl": [
           {
            "colorbar": {
             "outlinewidth": 0,
             "ticks": ""
            },
            "colorscale": [
             [
              0,
              "#0d0887"
             ],
             [
              0.1111111111111111,
              "#46039f"
             ],
             [
              0.2222222222222222,
              "#7201a8"
             ],
             [
              0.3333333333333333,
              "#9c179e"
             ],
             [
              0.4444444444444444,
              "#bd3786"
             ],
             [
              0.5555555555555556,
              "#d8576b"
             ],
             [
              0.6666666666666666,
              "#ed7953"
             ],
             [
              0.7777777777777778,
              "#fb9f3a"
             ],
             [
              0.8888888888888888,
              "#fdca26"
             ],
             [
              1,
              "#f0f921"
             ]
            ],
            "type": "heatmapgl"
           }
          ],
          "histogram": [
           {
            "marker": {
             "pattern": {
              "fillmode": "overlay",
              "size": 10,
              "solidity": 0.2
             }
            },
            "type": "histogram"
           }
          ],
          "histogram2d": [
           {
            "colorbar": {
             "outlinewidth": 0,
             "ticks": ""
            },
            "colorscale": [
             [
              0,
              "#0d0887"
             ],
             [
              0.1111111111111111,
              "#46039f"
             ],
             [
              0.2222222222222222,
              "#7201a8"
             ],
             [
              0.3333333333333333,
              "#9c179e"
             ],
             [
              0.4444444444444444,
              "#bd3786"
             ],
             [
              0.5555555555555556,
              "#d8576b"
             ],
             [
              0.6666666666666666,
              "#ed7953"
             ],
             [
              0.7777777777777778,
              "#fb9f3a"
             ],
             [
              0.8888888888888888,
              "#fdca26"
             ],
             [
              1,
              "#f0f921"
             ]
            ],
            "type": "histogram2d"
           }
          ],
          "histogram2dcontour": [
           {
            "colorbar": {
             "outlinewidth": 0,
             "ticks": ""
            },
            "colorscale": [
             [
              0,
              "#0d0887"
             ],
             [
              0.1111111111111111,
              "#46039f"
             ],
             [
              0.2222222222222222,
              "#7201a8"
             ],
             [
              0.3333333333333333,
              "#9c179e"
             ],
             [
              0.4444444444444444,
              "#bd3786"
             ],
             [
              0.5555555555555556,
              "#d8576b"
             ],
             [
              0.6666666666666666,
              "#ed7953"
             ],
             [
              0.7777777777777778,
              "#fb9f3a"
             ],
             [
              0.8888888888888888,
              "#fdca26"
             ],
             [
              1,
              "#f0f921"
             ]
            ],
            "type": "histogram2dcontour"
           }
          ],
          "mesh3d": [
           {
            "colorbar": {
             "outlinewidth": 0,
             "ticks": ""
            },
            "type": "mesh3d"
           }
          ],
          "parcoords": [
           {
            "line": {
             "colorbar": {
              "outlinewidth": 0,
              "ticks": ""
             }
            },
            "type": "parcoords"
           }
          ],
          "pie": [
           {
            "automargin": true,
            "type": "pie"
           }
          ],
          "scatter": [
           {
            "fillpattern": {
             "fillmode": "overlay",
             "size": 10,
             "solidity": 0.2
            },
            "type": "scatter"
           }
          ],
          "scatter3d": [
           {
            "line": {
             "colorbar": {
              "outlinewidth": 0,
              "ticks": ""
             }
            },
            "marker": {
             "colorbar": {
              "outlinewidth": 0,
              "ticks": ""
             }
            },
            "type": "scatter3d"
           }
          ],
          "scattercarpet": [
           {
            "marker": {
             "colorbar": {
              "outlinewidth": 0,
              "ticks": ""
             }
            },
            "type": "scattercarpet"
           }
          ],
          "scattergeo": [
           {
            "marker": {
             "colorbar": {
              "outlinewidth": 0,
              "ticks": ""
             }
            },
            "type": "scattergeo"
           }
          ],
          "scattergl": [
           {
            "marker": {
             "colorbar": {
              "outlinewidth": 0,
              "ticks": ""
             }
            },
            "type": "scattergl"
           }
          ],
          "scattermapbox": [
           {
            "marker": {
             "colorbar": {
              "outlinewidth": 0,
              "ticks": ""
             }
            },
            "type": "scattermapbox"
           }
          ],
          "scatterpolar": [
           {
            "marker": {
             "colorbar": {
              "outlinewidth": 0,
              "ticks": ""
             }
            },
            "type": "scatterpolar"
           }
          ],
          "scatterpolargl": [
           {
            "marker": {
             "colorbar": {
              "outlinewidth": 0,
              "ticks": ""
             }
            },
            "type": "scatterpolargl"
           }
          ],
          "scatterternary": [
           {
            "marker": {
             "colorbar": {
              "outlinewidth": 0,
              "ticks": ""
             }
            },
            "type": "scatterternary"
           }
          ],
          "surface": [
           {
            "colorbar": {
             "outlinewidth": 0,
             "ticks": ""
            },
            "colorscale": [
             [
              0,
              "#0d0887"
             ],
             [
              0.1111111111111111,
              "#46039f"
             ],
             [
              0.2222222222222222,
              "#7201a8"
             ],
             [
              0.3333333333333333,
              "#9c179e"
             ],
             [
              0.4444444444444444,
              "#bd3786"
             ],
             [
              0.5555555555555556,
              "#d8576b"
             ],
             [
              0.6666666666666666,
              "#ed7953"
             ],
             [
              0.7777777777777778,
              "#fb9f3a"
             ],
             [
              0.8888888888888888,
              "#fdca26"
             ],
             [
              1,
              "#f0f921"
             ]
            ],
            "type": "surface"
           }
          ],
          "table": [
           {
            "cells": {
             "fill": {
              "color": "#EBF0F8"
             },
             "line": {
              "color": "white"
             }
            },
            "header": {
             "fill": {
              "color": "#C8D4E3"
             },
             "line": {
              "color": "white"
             }
            },
            "type": "table"
           }
          ]
         },
         "layout": {
          "annotationdefaults": {
           "arrowcolor": "#2a3f5f",
           "arrowhead": 0,
           "arrowwidth": 1
          },
          "autotypenumbers": "strict",
          "coloraxis": {
           "colorbar": {
            "outlinewidth": 0,
            "ticks": ""
           }
          },
          "colorscale": {
           "diverging": [
            [
             0,
             "#8e0152"
            ],
            [
             0.1,
             "#c51b7d"
            ],
            [
             0.2,
             "#de77ae"
            ],
            [
             0.3,
             "#f1b6da"
            ],
            [
             0.4,
             "#fde0ef"
            ],
            [
             0.5,
             "#f7f7f7"
            ],
            [
             0.6,
             "#e6f5d0"
            ],
            [
             0.7,
             "#b8e186"
            ],
            [
             0.8,
             "#7fbc41"
            ],
            [
             0.9,
             "#4d9221"
            ],
            [
             1,
             "#276419"
            ]
           ],
           "sequential": [
            [
             0,
             "#0d0887"
            ],
            [
             0.1111111111111111,
             "#46039f"
            ],
            [
             0.2222222222222222,
             "#7201a8"
            ],
            [
             0.3333333333333333,
             "#9c179e"
            ],
            [
             0.4444444444444444,
             "#bd3786"
            ],
            [
             0.5555555555555556,
             "#d8576b"
            ],
            [
             0.6666666666666666,
             "#ed7953"
            ],
            [
             0.7777777777777778,
             "#fb9f3a"
            ],
            [
             0.8888888888888888,
             "#fdca26"
            ],
            [
             1,
             "#f0f921"
            ]
           ],
           "sequentialminus": [
            [
             0,
             "#0d0887"
            ],
            [
             0.1111111111111111,
             "#46039f"
            ],
            [
             0.2222222222222222,
             "#7201a8"
            ],
            [
             0.3333333333333333,
             "#9c179e"
            ],
            [
             0.4444444444444444,
             "#bd3786"
            ],
            [
             0.5555555555555556,
             "#d8576b"
            ],
            [
             0.6666666666666666,
             "#ed7953"
            ],
            [
             0.7777777777777778,
             "#fb9f3a"
            ],
            [
             0.8888888888888888,
             "#fdca26"
            ],
            [
             1,
             "#f0f921"
            ]
           ]
          },
          "colorway": [
           "#636efa",
           "#EF553B",
           "#00cc96",
           "#ab63fa",
           "#FFA15A",
           "#19d3f3",
           "#FF6692",
           "#B6E880",
           "#FF97FF",
           "#FECB52"
          ],
          "font": {
           "color": "#2a3f5f"
          },
          "geo": {
           "bgcolor": "white",
           "lakecolor": "white",
           "landcolor": "#E5ECF6",
           "showlakes": true,
           "showland": true,
           "subunitcolor": "white"
          },
          "hoverlabel": {
           "align": "left"
          },
          "hovermode": "closest",
          "mapbox": {
           "style": "light"
          },
          "paper_bgcolor": "white",
          "plot_bgcolor": "#E5ECF6",
          "polar": {
           "angularaxis": {
            "gridcolor": "white",
            "linecolor": "white",
            "ticks": ""
           },
           "bgcolor": "#E5ECF6",
           "radialaxis": {
            "gridcolor": "white",
            "linecolor": "white",
            "ticks": ""
           }
          },
          "scene": {
           "xaxis": {
            "backgroundcolor": "#E5ECF6",
            "gridcolor": "white",
            "gridwidth": 2,
            "linecolor": "white",
            "showbackground": true,
            "ticks": "",
            "zerolinecolor": "white"
           },
           "yaxis": {
            "backgroundcolor": "#E5ECF6",
            "gridcolor": "white",
            "gridwidth": 2,
            "linecolor": "white",
            "showbackground": true,
            "ticks": "",
            "zerolinecolor": "white"
           },
           "zaxis": {
            "backgroundcolor": "#E5ECF6",
            "gridcolor": "white",
            "gridwidth": 2,
            "linecolor": "white",
            "showbackground": true,
            "ticks": "",
            "zerolinecolor": "white"
           }
          },
          "shapedefaults": {
           "line": {
            "color": "#2a3f5f"
           }
          },
          "ternary": {
           "aaxis": {
            "gridcolor": "white",
            "linecolor": "white",
            "ticks": ""
           },
           "baxis": {
            "gridcolor": "white",
            "linecolor": "white",
            "ticks": ""
           },
           "bgcolor": "#E5ECF6",
           "caxis": {
            "gridcolor": "white",
            "linecolor": "white",
            "ticks": ""
           }
          },
          "title": {
           "x": 0.05
          },
          "xaxis": {
           "automargin": true,
           "gridcolor": "white",
           "linecolor": "white",
           "ticks": "",
           "title": {
            "standoff": 15
           },
           "zerolinecolor": "white",
           "zerolinewidth": 2
          },
          "yaxis": {
           "automargin": true,
           "gridcolor": "white",
           "linecolor": "white",
           "ticks": "",
           "title": {
            "standoff": 15
           },
           "zerolinecolor": "white",
           "zerolinewidth": 2
          }
         }
        },
        "title": {
         "text": "Top 200 Toplam Piyasa Değeri"
        },
        "xaxis": {
         "title": {
          "text": "sene"
         }
        },
        "yaxis": {
         "title": {
          "text": "trilyon dolar"
         }
        }
       }
      }
     },
     "metadata": {},
     "output_type": "display_data"
    }
   ],
   "source": [
    "dfs = [globals()[f\"df_{i}\"] for i in range(8, 23)]\n",
    "\n",
    "market_values = []\n",
    "for df in dfs:\n",
    "    market_values.append(df['Market_Value'].sum())\n",
    "\n",
    "a = list(range(2008,2023))\n",
    "mv = [x/1000000 for x in market_values]\n",
    "\n",
    "fig_genel = go.Figure(\n",
    "    layout=dict(\n",
    "        title=\"Top 200 Toplam Piyasa Değeri\",\n",
    "        \n",
    "        xaxis_title='sene',\n",
    "        yaxis_title='trilyon dolar',\n",
    "    ), \n",
    ")\n",
    "\n",
    "fig_genel.add_trace(go.Scatter(x=a, y=mv, name='piyasa değeri', line=dict(width=3, color='blue')))\n",
    "\n",
    "fig_genel.show()\n"
   ]
  },
  {
   "cell_type": "code",
   "execution_count": 5,
   "metadata": {},
   "outputs": [
    {
     "data": {
      "application/vnd.plotly.v1+json": {
       "config": {
        "plotlyServerURL": "https://plot.ly"
       },
       "data": [
        {
         "hovertemplate": "<b>%{hovertext}</b><br><br>Industry=Oil & Gas Operations<br>Sales=%{x}<br>Profits=%{y}<br>Market_Value=%{marker.size}<extra></extra>",
         "hovertext": [
          "PetroChina",
          "ExxonMobil",
          "Gazprom",
          "Petrobras-Petróleo Brasil",
          "Royal Dutch Shell",
          "Sinopec-China Petroleum",
          "Total",
          "Chevron",
          "ConocoPhillips",
          "ENI",
          "Schlumberger",
          "StatoilHydro",
          "Reliance Industries",
          "BG Group",
          "Rosneft",
          "Cnooc",
          "Occidental Petroleum",
          "Lukoil Holding",
          "EnCana",
          "Oil & Natural Gas",
          "Suncor Energy",
          "Devon Energy",
          "Transocean",
          "Repsol-YPF"
         ],
         "legendgroup": "Oil & Gas Operations",
         "marker": {
          "color": "#636efa",
          "size": [
           546140,
           465510,
           306790,
           236670,
           221090,
           186380,
           181800,
           179970,
           129150,
           127380,
           103380,
           98360,
           89290,
           79280,
           77940,
           76060,
           63640,
           62250,
           57470,
           54110,
           47960,
           45650,
           44570,
           42350
          ],
          "sizemode": "area",
          "sizeref": 1365.35,
          "symbol": "circle"
         },
         "mode": "markers",
         "name": "Oil & Gas Operations",
         "orientation": "v",
         "showlegend": true,
         "type": "scatter",
         "x": [
          88240,
          358600,
          81760,
          87520,
          355780,
          133790,
          199740,
          203970,
          171500,
          119270,
          23710,
          89000,
          26070,
          16430,
          21960,
          11160,
          20010,
          54110,
          24280,
          18900,
          18080,
          11360,
          6380,
          61800
         ],
         "xaxis": "x",
         "y": [
          18210,
          40610,
          23300,
          11040,
          31330,
          6900,
          19240,
          18690,
          11890,
          13700,
          5180,
          7520,
          2790,
          3460,
          3630,
          3880,
          5400,
          7690,
          4240,
          4110,
          2850,
          3610,
          3130,
          4360
         ],
         "yaxis": "y"
        },
        {
         "hovertemplate": "<b>%{hovertext}</b><br><br>Industry=Conglomerates<br>Sales=%{x}<br>Profits=%{y}<br>Market_Value=%{marker.size}<extra></extra>",
         "hovertext": [
          "General Electric",
          "Siemens",
          "United Technologies",
          "ABB",
          "3M",
          "Honeywell International"
         ],
         "legendgroup": "Conglomerates",
         "marker": {
          "color": "#EF553B",
          "size": [
           330930,
           118470,
           69110,
           58070,
           55480,
           42830
          ],
          "sizemode": "area",
          "sizeref": 1365.35,
          "symbol": "circle"
         },
         "mode": "markers",
         "name": "Conglomerates",
         "orientation": "v",
         "showlegend": true,
         "type": "scatter",
         "x": [
          172740,
          103200,
          54760,
          30670,
          24460,
          34590
         ],
         "xaxis": "x",
         "y": [
          22210,
          5420,
          4220,
          2720,
          4100,
          2440
         ],
         "yaxis": "y"
        },
        {
         "hovertemplate": "<b>%{hovertext}</b><br><br>Industry=Telecommunications Services<br>Sales=%{x}<br>Profits=%{y}<br>Market_Value=%{marker.size}<extra></extra>",
         "hovertext": [
          "China Mobile",
          "AT&T",
          "Vodafone",
          "Telefónica",
          "América Móvil",
          "Verizon Communications",
          "France Telecom",
          "Deutsche Telekom",
          "China Telecom",
          "Nippon Telegraph & Tel",
          "Telstra",
          "Telecom Italia",
          "Singapore Telecom"
         ],
         "legendgroup": "Telecommunications Services",
         "marker": {
          "color": "#00cc96",
          "size": [
           308590,
           210220,
           171940,
           138420,
           104700,
           104270,
           87890,
           83190,
           61890,
           60270,
           56680,
           48620,
           43960
          ],
          "sizemode": "area",
          "sizeref": 1365.35,
          "symbol": "circle"
         },
         "mode": "markers",
         "name": "Telecommunications Services",
         "orientation": "v",
         "showlegend": true,
         "type": "scatter",
         "x": [
          37060,
          118930,
          61230,
          82400,
          28530,
          93470,
          77310,
          91260,
          22420,
          91570,
          20110,
          42810,
          8670
         ],
         "xaxis": "x",
         "y": [
          8290,
          11950,
          -10590,
          13000,
          5370,
          5650,
          9200,
          830,
          3480,
          4059.9999999999995,
          2760,
          3350,
          2490
         ],
         "yaxis": "y"
        },
        {
         "hovertemplate": "<b>%{hovertext}</b><br><br>Industry=Banking<br>Sales=%{x}<br>Profits=%{y}<br>Market_Value=%{marker.size}<extra></extra>",
         "hovertext": [
          "ICBC",
          "HSBC Holdings",
          "Bank of America",
          "Bank of China",
          "JPMorgan Chase",
          "CCB-China Construction Bank",
          "Citigroup",
          "Banco Santander",
          "Mitsubishi UFJ Financial",
          "Wells Fargo",
          "Intesa Sanpaolo",
          "BNP Paribas",
          "BBVA-Banco Bilbao Vizcaya",
          "UniCredit Group",
          "Royal Bank of Scotland",
          "Sberbank",
          "Bank of Communications",
          "Royal Bank of Canada",
          "China Merchants Bank",
          "Société Générale Group",
          "Barclays",
          "Wachovia",
          "Banco Bradesco",
          "Sumitomo Mitsui Financial",
          "US Bancorp",
          "Commonwealth Bank",
          "Lloyds TSB Group",
          "Bank of New York Mellon",
          "Mizuho Financial",
          "Toronto-Dominion Bank",
          "Bank of Nova Scotia",
          "Standard Chartered Group",
          "Crédit Agricole",
          "HBOS",
          "National Australia Bank",
          "KBC Group"
         ],
         "legendgroup": "Banking",
         "marker": {
          "color": "#ab63fa",
          "size": [
           289570,
           180810,
           176530,
           171450,
           136880,
           126550,
           123440,
           113270,
           98140,
           96370,
           86290,
           81900,
           78290,
           77460,
           76640,
           71880,
           71240,
           64410,
           63650,
           62930,
           62430,
           60690,
           59800,
           56100,
           55390,
           51860,
           50950,
           50270,
           48800,
           48380,
           48080,
           46940,
           45730,
           44840,
           43950,
           43660
          ],
          "sizemode": "area",
          "sizeref": 1365.35,
          "symbol": "circle"
         },
         "mode": "markers",
         "name": "Banking",
         "orientation": "v",
         "showlegend": true,
         "type": "scatter",
         "x": [
          37480,
          146500,
          119190,
          31130,
          116350,
          29160,
          159230,
          72260,
          49490,
          53590,
          22250,
          116160,
          54340,
          63670,
          108450,
          14750,
          8850,
          43570,
          4840,
          103440,
          79700,
          55530,
          36120,
          33040,
          20310,
          26480,
          58740,
          14780,
          32520.000000000004,
          26510,
          28020,
          21250,
          101590,
          100320,
          38880,
          35220
         ],
         "xaxis": "x",
         "y": [
          6310,
          19130,
          14980,
          5490,
          15370,
          5930,
          3620,
          10020,
          7500,
          8060.000000000001,
          3380,
          10710,
          8940,
          7190,
          14620,
          3150,
          1570,
          5770,
          870,
          1300,
          8760,
          6310,
          4110,
          3760,
          4320,
          3800,
          6530,
          2220,
          5280,
          4200,
          4250,
          2810,
          6490,
          8100,
          4059.9999999999995,
          4660
         ],
         "yaxis": "y"
        },
        {
         "hovertemplate": "<b>%{hovertext}</b><br><br>Industry=IT Software & Services<br>Sales=%{x}<br>Profits=%{y}<br>Market_Value=%{marker.size}<extra></extra>",
         "hovertext": [
          "Microsoft",
          "IBM",
          "Google",
          "Oracle",
          "SAP"
         ],
         "legendgroup": "IT Software & Services",
         "marker": {
          "color": "#FFA15A",
          "size": [
           253150,
           157620,
           147660,
           96570,
           57770
          ],
          "sizemode": "area",
          "sizeref": 1365.35,
          "symbol": "circle"
         },
         "mode": "markers",
         "name": "IT Software & Services",
         "orientation": "v",
         "showlegend": true,
         "type": "scatter",
         "x": [
          57900,
          98790,
          16590,
          20080,
          14960
         ],
         "xaxis": "x",
         "y": [
          16960,
          10420,
          4200,
          4780,
          2810
         ],
         "yaxis": "y"
        },
        {
         "hovertemplate": "<b>%{hovertext}</b><br><br>Industry=Diversified Financials<br>Sales=%{x}<br>Profits=%{y}<br>Market_Value=%{marker.size}<extra></extra>",
         "hovertext": [
          "Berkshire Hathaway",
          "UBS",
          "Goldman Sachs Group",
          "Deutsche Bank",
          "Credit Suisse Group",
          "Fortis",
          "American Express",
          "Merrill Lynch",
          "Morgan Stanley",
          "Sun Hung Kai Properties"
         ],
         "legendgroup": "Diversified Financials",
         "marker": {
          "color": "#19d3f3",
          "size": [
           216650,
           68260,
           67160,
           56270,
           50850,
           49040,
           48980,
           48020,
           46530,
           45820
          ],
          "sizemode": "area",
          "sizeref": 1365.35,
          "symbol": "circle"
         },
         "mode": "markers",
         "name": "Diversified Financials",
         "orientation": "v",
         "showlegend": true,
         "type": "scatter",
         "x": [
          118250,
          116980,
          87970,
          95500,
          83720,
          121190,
          31560,
          62680,
          85330,
          3960
         ],
         "xaxis": "x",
         "y": [
          13210,
          -3650,
          11600,
          7450,
          7530,
          5460,
          4010,
          -7780,
          2560,
          2710
         ],
         "yaxis": "y"
        },
        {
         "hovertemplate": "<b>%{hovertext}</b><br><br>Industry=Technology Hardware & Equipment<br>Sales=%{x}<br>Profits=%{y}<br>Market_Value=%{marker.size}<extra></extra>",
         "hovertext": [
          "BP",
          "Nokia",
          "Cisco Systems",
          "Hewlett-Packard",
          "Apple",
          "Qualcomm",
          "Nintendo",
          "Canon",
          "Research In Motion",
          "Sony",
          "Matsushita Electric Indl",
          "Dell"
         ],
         "legendgroup": "Technology Hardware & Equipment",
         "marker": {
          "color": "#FF6692",
          "size": [
           204940,
           145660,
           145390,
           122040,
           109880,
           68340,
           65600,
           61750,
           58730,
           48030,
           45310,
           44600
          ],
          "sizemode": "area",
          "sizeref": 1365.35,
          "symbol": "circle"
         },
         "mode": "markers",
         "name": "Technology Hardware & Equipment",
         "orientation": "v",
         "showlegend": true,
         "type": "scatter",
         "x": [
          281030,
          74540,
          37680,
          107670,
          26500,
          9290,
          8230,
          40060,
          2950,
          70600,
          77510,
          61130
         ],
         "xaxis": "x",
         "y": [
          20600,
          10520,
          8070,
          7850,
          4070.0000000000005,
          3420,
          1480,
          4370,
          610,
          1080,
          1850,
          2950
         ],
         "yaxis": "y"
        },
        {
         "hovertemplate": "<b>%{hovertext}</b><br><br>Industry=Consumer Durables<br>Sales=%{x}<br>Profits=%{y}<br>Market_Value=%{marker.size}<extra></extra>",
         "hovertext": [
          "Procter & Gamble",
          "Toyota Motor",
          "Volkswagen Group",
          "Daimler",
          "L'Oréal Group",
          "Honda Motor"
         ],
         "legendgroup": "Consumer Durables",
         "marker": {
          "color": "#B6E880",
          "size": [
           203670,
           175080,
           90230,
           85160,
           72990,
           56820
          ],
          "sizemode": "area",
          "sizeref": 1365.35,
          "symbol": "circle"
         },
         "mode": "markers",
         "name": "Consumer Durables",
         "orientation": "v",
         "showlegend": true,
         "type": "scatter",
         "x": [
          79740,
          203800,
          149000,
          145110,
          20830,
          94350
         ],
         "xaxis": "x",
         "y": [
          11130,
          13990,
          5640,
          5820,
          2720,
          5040
         ],
         "yaxis": "y"
        },
        {
         "hovertemplate": "<b>%{hovertext}</b><br><br>Industry=Retailing<br>Sales=%{x}<br>Profits=%{y}<br>Market_Value=%{marker.size}<extra></extra>",
         "hovertext": [
          "Wal-Mart Stores",
          "CVS Caremark",
          "H&M Hennes & Mauritz",
          "Home Depot",
          "Target"
         ],
         "legendgroup": "Retailing",
         "marker": {
          "color": "#FF97FF",
          "size": [
           198600,
           57820,
           46810,
           44810,
           43070
          ],
          "sizemode": "area",
          "sizeref": 1365.35,
          "symbol": "circle"
         },
         "mode": "markers",
         "name": "Retailing",
         "orientation": "v",
         "showlegend": true,
         "type": "scatter",
         "x": [
          378800,
          76330,
          12310,
          77350,
          63370
         ],
         "xaxis": "x",
         "y": [
          12730,
          2640,
          2130,
          4400,
          2850
         ],
         "yaxis": "y"
        },
        {
         "hovertemplate": "<b>%{hovertext}</b><br><br>Industry=Materials<br>Sales=%{x}<br>Profits=%{y}<br>Market_Value=%{marker.size}<extra></extra>",
         "hovertext": [
          "BHP Billiton",
          "Rio Tinto",
          "Vale",
          "China Shenhua Energy",
          "ArcelorMittal",
          "Anglo American",
          "Xstrata",
          "MMC Norilsk Nickel",
          "Aluminum Corp of China",
          "Posco",
          "Barrick Gold",
          "Baoshan Iron & Steel"
         ],
         "legendgroup": "Materials",
         "marker": {
          "color": "#FECB52",
          "size": [
           190620,
           165480,
           161390,
           134730,
           108820,
           85050,
           77010,
           51450,
           51080,
           49210,
           45510,
           42160
          ],
          "sizemode": "area",
          "sizeref": 1365.35,
          "symbol": "circle"
         },
         "mode": "markers",
         "name": "Materials",
         "orientation": "v",
         "showlegend": true,
         "type": "scatter",
         "x": [
          39500,
          29700,
          33230,
          8230,
          105220,
          25470,
          28210,
          11930,
          7930,
          27910,
          6780,
          20150
         ],
         "xaxis": "x",
         "y": [
          13420,
          7310,
          10260,
          2240,
          10370,
          5290,
          5500,
          6190,
          1500,
          3580,
          1200,
          1670
         ],
         "yaxis": "y"
        },
        {
         "hovertemplate": "<b>%{hovertext}</b><br><br>Industry=Food, Drink & Tobacco<br>Sales=%{x}<br>Profits=%{y}<br>Market_Value=%{marker.size}<extra></extra>",
         "hovertext": [
          "Nestlé",
          "Altria Group",
          "Coca-Cola",
          "PepsiCo",
          "Unilever",
          "British Amer Tobacco",
          "InBev",
          "Diageo",
          "Japan Tobacco",
          "Kraft Foods"
         ],
         "legendgroup": "Food, Drink & Tobacco",
         "marker": {
          "color": "#636efa",
          "size": [
           188110,
           154200,
           135860,
           111420,
           92750,
           76070,
           55890,
           52920,
           48860,
           47790
          ],
          "sizemode": "area",
          "sizeref": 1365.35,
          "symbol": "circle"
         },
         "mode": "markers",
         "name": "Food, Drink & Tobacco",
         "orientation": "v",
         "showlegend": true,
         "type": "scatter",
         "x": [
          94760,
          38050,
          28860,
          39470,
          54820,
          19880,
          21070,
          15020,
          17530,
          37240
         ],
         "xaxis": "x",
         "y": [
          9380,
          9160,
          5980,
          5660,
          5300,
          4230,
          3210,
          2990,
          1790,
          2590
         ],
         "yaxis": "y"
        },
        {
         "hovertemplate": "<b>%{hovertext}</b><br><br>Industry=Drugs & Biotechnology<br>Sales=%{x}<br>Profits=%{y}<br>Market_Value=%{marker.size}<extra></extra>",
         "hovertext": [
          "Johnson & Johnson",
          "Roche Holding",
          "Pfizer",
          "GlaxoSmithKline",
          "Novartis",
          "Sanofi-aventis",
          "Merck & Co",
          "Wyeth",
          "Eli Lilly & Co",
          "AstraZeneca",
          "Amgen",
          "Takeda Pharmaceutical",
          "Bristol-Myers Squibb",
          "Gilead Sciences",
          "Novo Nordisk"
         ],
         "legendgroup": "Drugs & Biotechnology",
         "marker": {
          "color": "#EF553B",
          "size": [
           175510,
           169320,
           152170,
           120050,
           111620,
           101170,
           95920,
           58360,
           56870,
           54860,
           49510,
           47440,
           44750,
           43950,
           42650
          ],
          "sizemode": "area",
          "sizeref": 1365.35,
          "symbol": "circle"
         },
         "mode": "markers",
         "name": "Drugs & Biotechnology",
         "orientation": "v",
         "showlegend": true,
         "type": "scatter",
         "x": [
          61100,
          40650,
          48420,
          45070,
          40220,
          40950,
          24200,
          22400,
          18630,
          29210,
          14770,
          11110,
          19350,
          4230,
          8189.999999999999
         ],
         "xaxis": "x",
         "y": [
          10580,
          8600,
          8140.000000000001,
          10350,
          12620,
          7680,
          3280,
          4620,
          2950,
          5530,
          3170,
          2860,
          2170,
          1620,
          1670
         ],
         "yaxis": "y"
        },
        {
         "hovertemplate": "<b>%{hovertext}</b><br><br>Industry=Utilities<br>Sales=%{x}<br>Profits=%{y}<br>Market_Value=%{marker.size}<extra></extra>",
         "hovertext": [
          "EDF Group",
          "E.ON",
          "Suez Group",
          "Iberdrola",
          "RWE Group",
          "ENEL",
          "Gaz de France",
          "Exelon",
          "UES of Russia",
          "CEZ",
          "Veolia Environnement"
         ],
         "legendgroup": "Utilities",
         "marker": {
          "color": "#00cc96",
          "size": [
           170810,
           126220,
           83560,
           72780,
           68190,
           67000,
           56730,
           49490,
           47090,
           43860,
           42780
          ],
          "sizemode": "area",
          "sizeref": 1365.35,
          "symbol": "circle"
         },
         "mode": "markers",
         "name": "Utilities",
         "orientation": "v",
         "showlegend": true,
         "type": "scatter",
         "x": [
          81600,
          94040,
          64959.99999999999,
          25500,
          56170,
          49470,
          36470,
          18920,
          34000,
          7650,
          37760
         ],
         "xaxis": "x",
         "y": [
          7690,
          9860,
          5370,
          3440,
          3640,
          4010,
          3030,
          2740,
          3170,
          1330,
          1000
         ],
         "yaxis": "y"
        },
        {
         "hovertemplate": "<b>%{hovertext}</b><br><br>Industry=Insurance<br>Sales=%{x}<br>Profits=%{y}<br>Market_Value=%{marker.size}<extra></extra>",
         "hovertext": [
          "China Life Insurance",
          "American Intl Group",
          "Allianz",
          "ING Group",
          "AXA Group",
          "Ping An Insurance Group",
          "Generali Group",
          "Manulife Financial",
          "Zurich Financial Services"
         ],
         "legendgroup": "Insurance",
         "marker": {
          "color": "#ab63fa",
          "size": [
           144450,
           118200,
           80300,
           75780,
           70330,
           67930,
           60790,
           59180,
           45760
          ],
          "sizemode": "area",
          "sizeref": 1365.35,
          "symbol": "circle"
         },
         "mode": "markers",
         "name": "Insurance",
         "orientation": "v",
         "showlegend": true,
         "type": "scatter",
         "x": [
          18860,
          110060,
          139120,
          197930,
          151700,
          11280,
          102160,
          33080,
          55050
         ],
         "xaxis": "x",
         "y": [
          2560,
          6200,
          10900,
          12650,
          7750,
          1000,
          3170,
          4010,
          5630
         ],
         "yaxis": "y"
        },
        {
         "hovertemplate": "<b>%{hovertext}</b><br><br>Industry=Chemicals<br>Sales=%{x}<br>Profits=%{y}<br>Market_Value=%{marker.size}<extra></extra>",
         "hovertext": [
          "Saudi Basic Industries",
          "Monsanto",
          "BASF",
          "Bayer Group",
          "Potash of Saskatchewan",
          "Mosaic"
         ],
         "legendgroup": "Chemicals",
         "marker": {
          "color": "#FFA15A",
          "size": [
           124850,
           63390,
           60960,
           59000,
           50550,
           49320
          ],
          "sizemode": "area",
          "sizeref": 1365.35,
          "symbol": "circle"
         },
         "mode": "markers",
         "name": "Chemicals",
         "orientation": "v",
         "showlegend": true,
         "type": "scatter",
         "x": [
          23020,
          9120,
          84600,
          38200,
          5600,
          7160
         ],
         "xaxis": "x",
         "y": [
          5410,
          1160,
          5930,
          2320,
          1180,
          940
         ],
         "yaxis": "y"
        },
        {
         "hovertemplate": "<b>%{hovertext}</b><br><br>Industry=Semiconductors<br>Sales=%{x}<br>Profits=%{y}<br>Market_Value=%{marker.size}<extra></extra>",
         "hovertext": [
          "Intel",
          "Samsung Electronics",
          "Taiwan Semiconductor"
         ],
         "legendgroup": "Semiconductors",
         "marker": {
          "color": "#19d3f3",
          "size": [
           115590,
           87840,
           52660
          ],
          "sizemode": "area",
          "sizeref": 1365.35,
          "symbol": "circle"
         },
         "mode": "markers",
         "name": "Semiconductors",
         "orientation": "v",
         "showlegend": true,
         "type": "scatter",
         "x": [
          38330,
          92260,
          9950
         ],
         "xaxis": "x",
         "y": [
          6980,
          8560,
          3370
         ],
         "yaxis": "y"
        },
        {
         "hovertemplate": "<b>%{hovertext}</b><br><br>Industry=Health Care Equipment & Services<br>Sales=%{x}<br>Profits=%{y}<br>Market_Value=%{marker.size}<extra></extra>",
         "hovertext": [
          "Abbott Laboratories",
          "UnitedHealth Group",
          "Medtronic"
         ],
         "legendgroup": "Health Care Equipment & Services",
         "marker": {
          "color": "#FF6692",
          "size": [
           82770,
           58160,
           55810
          ],
          "sizemode": "area",
          "sizeref": 1365.35,
          "symbol": "circle"
         },
         "mode": "markers",
         "name": "Health Care Equipment & Services",
         "orientation": "v",
         "showlegend": true,
         "type": "scatter",
         "x": [
          25910,
          75430,
          12930
         ],
         "xaxis": "x",
         "y": [
          3610,
          4650,
          2230
         ],
         "yaxis": "y"
        },
        {
         "hovertemplate": "<b>%{hovertext}</b><br><br>Industry=Transportation<br>Sales=%{x}<br>Profits=%{y}<br>Market_Value=%{marker.size}<extra></extra>",
         "hovertext": [
          "United Parcel Service",
          "Mxller-Maersk",
          "China Cosco Holdings"
         ],
         "legendgroup": "Transportation",
         "marker": {
          "color": "#B6E880",
          "size": [
           73810,
           45660,
           44950
          ],
          "sizemode": "area",
          "sizeref": 1365.35,
          "symbol": "circle"
         },
         "mode": "markers",
         "name": "Transportation",
         "orientation": "v",
         "showlegend": true,
         "type": "scatter",
         "x": [
          49690,
          46830,
          6400
         ],
         "xaxis": "x",
         "y": [
          380,
          2750,
          250
         ],
         "yaxis": "y"
        },
        {
         "hovertemplate": "<b>%{hovertext}</b><br><br>Industry=Aerospace & Defense<br>Sales=%{x}<br>Profits=%{y}<br>Market_Value=%{marker.size}<extra></extra>",
         "hovertext": [
          "Boeing"
         ],
         "legendgroup": "Aerospace & Defense",
         "marker": {
          "color": "#FF97FF",
          "size": [
           63320
          ],
          "sizemode": "area",
          "sizeref": 1365.35,
          "symbol": "circle"
         },
         "mode": "markers",
         "name": "Aerospace & Defense",
         "orientation": "v",
         "showlegend": true,
         "type": "scatter",
         "x": [
          66390
         ],
         "xaxis": "x",
         "y": [
          4070.0000000000005
         ],
         "yaxis": "y"
        },
        {
         "hovertemplate": "<b>%{hovertext}</b><br><br>Industry=Food Markets<br>Sales=%{x}<br>Profits=%{y}<br>Market_Value=%{marker.size}<extra></extra>",
         "hovertext": [
          "Tesco",
          "Carrefour Group"
         ],
         "legendgroup": "Food Markets",
         "marker": {
          "color": "#FECB52",
          "size": [
           62410,
           49950
          ],
          "sizemode": "area",
          "sizeref": 1365.35,
          "symbol": "circle"
         },
         "mode": "markers",
         "name": "Food Markets",
         "orientation": "v",
         "showlegend": true,
         "type": "scatter",
         "x": [
          83610,
          112400
         ],
         "xaxis": "x",
         "y": [
          3710,
          3150
         ],
         "yaxis": "y"
        },
        {
         "hovertemplate": "<b>%{hovertext}</b><br><br>Industry=Hotels, Restaurants & Leisure<br>Sales=%{x}<br>Profits=%{y}<br>Market_Value=%{marker.size}<extra></extra>",
         "hovertext": [
          "McDonald's"
         ],
         "legendgroup": "Hotels, Restaurants & Leisure",
         "marker": {
          "color": "#636efa",
          "size": [
           62320
          ],
          "sizemode": "area",
          "sizeref": 1365.35,
          "symbol": "circle"
         },
         "mode": "markers",
         "name": "Hotels, Restaurants & Leisure",
         "orientation": "v",
         "showlegend": true,
         "type": "scatter",
         "x": [
          22790
         ],
         "xaxis": "x",
         "y": [
          2400
         ],
         "yaxis": "y"
        },
        {
         "hovertemplate": "<b>%{hovertext}</b><br><br>Industry=Media<br>Sales=%{x}<br>Profits=%{y}<br>Market_Value=%{marker.size}<extra></extra>",
         "hovertext": [
          "Walt Disney",
          "Comcast",
          "News Corp",
          "Time Warner",
          "Vivendi"
         ],
         "legendgroup": "Media",
         "marker": {
          "color": "#EF553B",
          "size": [
           61030,
           58840,
           57570,
           55830,
           46360
          ],
          "sizemode": "area",
          "sizeref": 1365.35,
          "symbol": "circle"
         },
         "mode": "markers",
         "name": "Media",
         "orientation": "v",
         "showlegend": true,
         "type": "scatter",
         "x": [
          36380,
          30900,
          30550,
          46480,
          31620
         ],
         "xaxis": "x",
         "y": [
          4240,
          2590,
          3330,
          4390,
          3830
         ],
         "yaxis": "y"
        },
        {
         "hovertemplate": "<b>%{hovertext}</b><br><br>Industry=Trading Companies<br>Sales=%{x}<br>Profits=%{y}<br>Market_Value=%{marker.size}<extra></extra>",
         "hovertext": [
          "Mitsubishi"
         ],
         "legendgroup": "Trading Companies",
         "marker": {
          "color": "#00cc96",
          "size": [
           53090
          ],
          "sizemode": "area",
          "sizeref": 1365.35,
          "symbol": "circle"
         },
         "mode": "markers",
         "name": "Trading Companies",
         "orientation": "v",
         "showlegend": true,
         "type": "scatter",
         "x": [
          43290
         ],
         "xaxis": "x",
         "y": [
          3540
         ],
         "yaxis": "y"
        },
        {
         "hovertemplate": "<b>%{hovertext}</b><br><br>Industry=Capital Goods<br>Sales=%{x}<br>Profits=%{y}<br>Market_Value=%{marker.size}<extra></extra>",
         "hovertext": [
          "Caterpillar"
         ],
         "legendgroup": "Capital Goods",
         "marker": {
          "color": "#ab63fa",
          "size": [
           45130
          ],
          "sizemode": "area",
          "sizeref": 1365.35,
          "symbol": "circle"
         },
         "mode": "markers",
         "name": "Capital Goods",
         "orientation": "v",
         "showlegend": true,
         "type": "scatter",
         "x": [
          44960
         ],
         "xaxis": "x",
         "y": [
          3540
         ],
         "yaxis": "y"
        }
       ],
       "layout": {
        "legend": {
         "itemsizing": "constant",
         "title": {
          "text": "Industry"
         },
         "tracegroupgap": 0
        },
        "margin": {
         "t": 60
        },
        "template": {
         "data": {
          "bar": [
           {
            "error_x": {
             "color": "#2a3f5f"
            },
            "error_y": {
             "color": "#2a3f5f"
            },
            "marker": {
             "line": {
              "color": "#E5ECF6",
              "width": 0.5
             },
             "pattern": {
              "fillmode": "overlay",
              "size": 10,
              "solidity": 0.2
             }
            },
            "type": "bar"
           }
          ],
          "barpolar": [
           {
            "marker": {
             "line": {
              "color": "#E5ECF6",
              "width": 0.5
             },
             "pattern": {
              "fillmode": "overlay",
              "size": 10,
              "solidity": 0.2
             }
            },
            "type": "barpolar"
           }
          ],
          "carpet": [
           {
            "aaxis": {
             "endlinecolor": "#2a3f5f",
             "gridcolor": "white",
             "linecolor": "white",
             "minorgridcolor": "white",
             "startlinecolor": "#2a3f5f"
            },
            "baxis": {
             "endlinecolor": "#2a3f5f",
             "gridcolor": "white",
             "linecolor": "white",
             "minorgridcolor": "white",
             "startlinecolor": "#2a3f5f"
            },
            "type": "carpet"
           }
          ],
          "choropleth": [
           {
            "colorbar": {
             "outlinewidth": 0,
             "ticks": ""
            },
            "type": "choropleth"
           }
          ],
          "contour": [
           {
            "colorbar": {
             "outlinewidth": 0,
             "ticks": ""
            },
            "colorscale": [
             [
              0,
              "#0d0887"
             ],
             [
              0.1111111111111111,
              "#46039f"
             ],
             [
              0.2222222222222222,
              "#7201a8"
             ],
             [
              0.3333333333333333,
              "#9c179e"
             ],
             [
              0.4444444444444444,
              "#bd3786"
             ],
             [
              0.5555555555555556,
              "#d8576b"
             ],
             [
              0.6666666666666666,
              "#ed7953"
             ],
             [
              0.7777777777777778,
              "#fb9f3a"
             ],
             [
              0.8888888888888888,
              "#fdca26"
             ],
             [
              1,
              "#f0f921"
             ]
            ],
            "type": "contour"
           }
          ],
          "contourcarpet": [
           {
            "colorbar": {
             "outlinewidth": 0,
             "ticks": ""
            },
            "type": "contourcarpet"
           }
          ],
          "heatmap": [
           {
            "colorbar": {
             "outlinewidth": 0,
             "ticks": ""
            },
            "colorscale": [
             [
              0,
              "#0d0887"
             ],
             [
              0.1111111111111111,
              "#46039f"
             ],
             [
              0.2222222222222222,
              "#7201a8"
             ],
             [
              0.3333333333333333,
              "#9c179e"
             ],
             [
              0.4444444444444444,
              "#bd3786"
             ],
             [
              0.5555555555555556,
              "#d8576b"
             ],
             [
              0.6666666666666666,
              "#ed7953"
             ],
             [
              0.7777777777777778,
              "#fb9f3a"
             ],
             [
              0.8888888888888888,
              "#fdca26"
             ],
             [
              1,
              "#f0f921"
             ]
            ],
            "type": "heatmap"
           }
          ],
          "heatmapgl": [
           {
            "colorbar": {
             "outlinewidth": 0,
             "ticks": ""
            },
            "colorscale": [
             [
              0,
              "#0d0887"
             ],
             [
              0.1111111111111111,
              "#46039f"
             ],
             [
              0.2222222222222222,
              "#7201a8"
             ],
             [
              0.3333333333333333,
              "#9c179e"
             ],
             [
              0.4444444444444444,
              "#bd3786"
             ],
             [
              0.5555555555555556,
              "#d8576b"
             ],
             [
              0.6666666666666666,
              "#ed7953"
             ],
             [
              0.7777777777777778,
              "#fb9f3a"
             ],
             [
              0.8888888888888888,
              "#fdca26"
             ],
             [
              1,
              "#f0f921"
             ]
            ],
            "type": "heatmapgl"
           }
          ],
          "histogram": [
           {
            "marker": {
             "pattern": {
              "fillmode": "overlay",
              "size": 10,
              "solidity": 0.2
             }
            },
            "type": "histogram"
           }
          ],
          "histogram2d": [
           {
            "colorbar": {
             "outlinewidth": 0,
             "ticks": ""
            },
            "colorscale": [
             [
              0,
              "#0d0887"
             ],
             [
              0.1111111111111111,
              "#46039f"
             ],
             [
              0.2222222222222222,
              "#7201a8"
             ],
             [
              0.3333333333333333,
              "#9c179e"
             ],
             [
              0.4444444444444444,
              "#bd3786"
             ],
             [
              0.5555555555555556,
              "#d8576b"
             ],
             [
              0.6666666666666666,
              "#ed7953"
             ],
             [
              0.7777777777777778,
              "#fb9f3a"
             ],
             [
              0.8888888888888888,
              "#fdca26"
             ],
             [
              1,
              "#f0f921"
             ]
            ],
            "type": "histogram2d"
           }
          ],
          "histogram2dcontour": [
           {
            "colorbar": {
             "outlinewidth": 0,
             "ticks": ""
            },
            "colorscale": [
             [
              0,
              "#0d0887"
             ],
             [
              0.1111111111111111,
              "#46039f"
             ],
             [
              0.2222222222222222,
              "#7201a8"
             ],
             [
              0.3333333333333333,
              "#9c179e"
             ],
             [
              0.4444444444444444,
              "#bd3786"
             ],
             [
              0.5555555555555556,
              "#d8576b"
             ],
             [
              0.6666666666666666,
              "#ed7953"
             ],
             [
              0.7777777777777778,
              "#fb9f3a"
             ],
             [
              0.8888888888888888,
              "#fdca26"
             ],
             [
              1,
              "#f0f921"
             ]
            ],
            "type": "histogram2dcontour"
           }
          ],
          "mesh3d": [
           {
            "colorbar": {
             "outlinewidth": 0,
             "ticks": ""
            },
            "type": "mesh3d"
           }
          ],
          "parcoords": [
           {
            "line": {
             "colorbar": {
              "outlinewidth": 0,
              "ticks": ""
             }
            },
            "type": "parcoords"
           }
          ],
          "pie": [
           {
            "automargin": true,
            "type": "pie"
           }
          ],
          "scatter": [
           {
            "fillpattern": {
             "fillmode": "overlay",
             "size": 10,
             "solidity": 0.2
            },
            "type": "scatter"
           }
          ],
          "scatter3d": [
           {
            "line": {
             "colorbar": {
              "outlinewidth": 0,
              "ticks": ""
             }
            },
            "marker": {
             "colorbar": {
              "outlinewidth": 0,
              "ticks": ""
             }
            },
            "type": "scatter3d"
           }
          ],
          "scattercarpet": [
           {
            "marker": {
             "colorbar": {
              "outlinewidth": 0,
              "ticks": ""
             }
            },
            "type": "scattercarpet"
           }
          ],
          "scattergeo": [
           {
            "marker": {
             "colorbar": {
              "outlinewidth": 0,
              "ticks": ""
             }
            },
            "type": "scattergeo"
           }
          ],
          "scattergl": [
           {
            "marker": {
             "colorbar": {
              "outlinewidth": 0,
              "ticks": ""
             }
            },
            "type": "scattergl"
           }
          ],
          "scattermapbox": [
           {
            "marker": {
             "colorbar": {
              "outlinewidth": 0,
              "ticks": ""
             }
            },
            "type": "scattermapbox"
           }
          ],
          "scatterpolar": [
           {
            "marker": {
             "colorbar": {
              "outlinewidth": 0,
              "ticks": ""
             }
            },
            "type": "scatterpolar"
           }
          ],
          "scatterpolargl": [
           {
            "marker": {
             "colorbar": {
              "outlinewidth": 0,
              "ticks": ""
             }
            },
            "type": "scatterpolargl"
           }
          ],
          "scatterternary": [
           {
            "marker": {
             "colorbar": {
              "outlinewidth": 0,
              "ticks": ""
             }
            },
            "type": "scatterternary"
           }
          ],
          "surface": [
           {
            "colorbar": {
             "outlinewidth": 0,
             "ticks": ""
            },
            "colorscale": [
             [
              0,
              "#0d0887"
             ],
             [
              0.1111111111111111,
              "#46039f"
             ],
             [
              0.2222222222222222,
              "#7201a8"
             ],
             [
              0.3333333333333333,
              "#9c179e"
             ],
             [
              0.4444444444444444,
              "#bd3786"
             ],
             [
              0.5555555555555556,
              "#d8576b"
             ],
             [
              0.6666666666666666,
              "#ed7953"
             ],
             [
              0.7777777777777778,
              "#fb9f3a"
             ],
             [
              0.8888888888888888,
              "#fdca26"
             ],
             [
              1,
              "#f0f921"
             ]
            ],
            "type": "surface"
           }
          ],
          "table": [
           {
            "cells": {
             "fill": {
              "color": "#EBF0F8"
             },
             "line": {
              "color": "white"
             }
            },
            "header": {
             "fill": {
              "color": "#C8D4E3"
             },
             "line": {
              "color": "white"
             }
            },
            "type": "table"
           }
          ]
         },
         "layout": {
          "annotationdefaults": {
           "arrowcolor": "#2a3f5f",
           "arrowhead": 0,
           "arrowwidth": 1
          },
          "autotypenumbers": "strict",
          "coloraxis": {
           "colorbar": {
            "outlinewidth": 0,
            "ticks": ""
           }
          },
          "colorscale": {
           "diverging": [
            [
             0,
             "#8e0152"
            ],
            [
             0.1,
             "#c51b7d"
            ],
            [
             0.2,
             "#de77ae"
            ],
            [
             0.3,
             "#f1b6da"
            ],
            [
             0.4,
             "#fde0ef"
            ],
            [
             0.5,
             "#f7f7f7"
            ],
            [
             0.6,
             "#e6f5d0"
            ],
            [
             0.7,
             "#b8e186"
            ],
            [
             0.8,
             "#7fbc41"
            ],
            [
             0.9,
             "#4d9221"
            ],
            [
             1,
             "#276419"
            ]
           ],
           "sequential": [
            [
             0,
             "#0d0887"
            ],
            [
             0.1111111111111111,
             "#46039f"
            ],
            [
             0.2222222222222222,
             "#7201a8"
            ],
            [
             0.3333333333333333,
             "#9c179e"
            ],
            [
             0.4444444444444444,
             "#bd3786"
            ],
            [
             0.5555555555555556,
             "#d8576b"
            ],
            [
             0.6666666666666666,
             "#ed7953"
            ],
            [
             0.7777777777777778,
             "#fb9f3a"
            ],
            [
             0.8888888888888888,
             "#fdca26"
            ],
            [
             1,
             "#f0f921"
            ]
           ],
           "sequentialminus": [
            [
             0,
             "#0d0887"
            ],
            [
             0.1111111111111111,
             "#46039f"
            ],
            [
             0.2222222222222222,
             "#7201a8"
            ],
            [
             0.3333333333333333,
             "#9c179e"
            ],
            [
             0.4444444444444444,
             "#bd3786"
            ],
            [
             0.5555555555555556,
             "#d8576b"
            ],
            [
             0.6666666666666666,
             "#ed7953"
            ],
            [
             0.7777777777777778,
             "#fb9f3a"
            ],
            [
             0.8888888888888888,
             "#fdca26"
            ],
            [
             1,
             "#f0f921"
            ]
           ]
          },
          "colorway": [
           "#636efa",
           "#EF553B",
           "#00cc96",
           "#ab63fa",
           "#FFA15A",
           "#19d3f3",
           "#FF6692",
           "#B6E880",
           "#FF97FF",
           "#FECB52"
          ],
          "font": {
           "color": "#2a3f5f"
          },
          "geo": {
           "bgcolor": "white",
           "lakecolor": "white",
           "landcolor": "#E5ECF6",
           "showlakes": true,
           "showland": true,
           "subunitcolor": "white"
          },
          "hoverlabel": {
           "align": "left"
          },
          "hovermode": "closest",
          "mapbox": {
           "style": "light"
          },
          "paper_bgcolor": "white",
          "plot_bgcolor": "#E5ECF6",
          "polar": {
           "angularaxis": {
            "gridcolor": "white",
            "linecolor": "white",
            "ticks": ""
           },
           "bgcolor": "#E5ECF6",
           "radialaxis": {
            "gridcolor": "white",
            "linecolor": "white",
            "ticks": ""
           }
          },
          "scene": {
           "xaxis": {
            "backgroundcolor": "#E5ECF6",
            "gridcolor": "white",
            "gridwidth": 2,
            "linecolor": "white",
            "showbackground": true,
            "ticks": "",
            "zerolinecolor": "white"
           },
           "yaxis": {
            "backgroundcolor": "#E5ECF6",
            "gridcolor": "white",
            "gridwidth": 2,
            "linecolor": "white",
            "showbackground": true,
            "ticks": "",
            "zerolinecolor": "white"
           },
           "zaxis": {
            "backgroundcolor": "#E5ECF6",
            "gridcolor": "white",
            "gridwidth": 2,
            "linecolor": "white",
            "showbackground": true,
            "ticks": "",
            "zerolinecolor": "white"
           }
          },
          "shapedefaults": {
           "line": {
            "color": "#2a3f5f"
           }
          },
          "ternary": {
           "aaxis": {
            "gridcolor": "white",
            "linecolor": "white",
            "ticks": ""
           },
           "baxis": {
            "gridcolor": "white",
            "linecolor": "white",
            "ticks": ""
           },
           "bgcolor": "#E5ECF6",
           "caxis": {
            "gridcolor": "white",
            "linecolor": "white",
            "ticks": ""
           }
          },
          "title": {
           "x": 0.05
          },
          "xaxis": {
           "automargin": true,
           "gridcolor": "white",
           "linecolor": "white",
           "ticks": "",
           "title": {
            "standoff": 15
           },
           "zerolinecolor": "white",
           "zerolinewidth": 2
          },
          "yaxis": {
           "automargin": true,
           "gridcolor": "white",
           "linecolor": "white",
           "ticks": "",
           "title": {
            "standoff": 15
           },
           "zerolinecolor": "white",
           "zerolinewidth": 2
          }
         }
        },
        "xaxis": {
         "anchor": "y",
         "domain": [
          0,
          1
         ],
         "title": {
          "text": "Sales"
         }
        },
        "yaxis": {
         "anchor": "x",
         "domain": [
          0,
          1
         ],
         "title": {
          "text": "Profits"
         }
        }
       }
      }
     },
     "metadata": {},
     "output_type": "display_data"
    }
   ],
   "source": [
    "#Relationship between revenue, profit, and industry in 2008\n",
    "\n",
    "fig_satis_kar_8 = px.scatter(df_8, x='Sales', y='Profits', color='Industry', size='Market_Value', hover_name='Company')\n",
    "\n",
    "fig_satis_kar_8.show()"
   ]
  },
  {
   "cell_type": "code",
   "execution_count": 6,
   "metadata": {},
   "outputs": [
    {
     "data": {
      "application/vnd.plotly.v1+json": {
       "config": {
        "plotlyServerURL": "https://plot.ly"
       },
       "data": [
        {
         "hovertemplate": "<b>%{hovertext}</b><br><br>Industry=Oil & Gas Operations<br>Sales=%{x}<br>Profits=%{y}<br>Market_Value=%{marker.size}<extra></extra>",
         "hovertext": [
          "PetroChina",
          "Gazprom",
          "Petrobras-Petróleo Brasil",
          "Sinopec-China Petroleum",
          "Total",
          "Chevron",
          "ConocoPhillips",
          "ENI",
          "Schlumberger",
          "StatoilHydro",
          "Reliance Industries",
          "BG Group",
          "Rosneft",
          "Cnooc",
          "Occidental Petroleum",
          "Lukoil Holding",
          "EnCana",
          "Oil & Natural Gas",
          "Suncor Energy",
          "Devon Energy",
          "Transocean",
          "Repsol-YPF"
         ],
         "legendgroup": "Oil & Gas Operations",
         "marker": {
          "color": "#636efa",
          "size": [
           546140,
           306790,
           236670,
           186380,
           181800,
           179970,
           129150,
           127380,
           103380,
           98360,
           89290,
           79280,
           77940,
           76060,
           63640,
           62250,
           57470,
           54110,
           47960,
           45650,
           44570,
           42350
          ],
          "sizemode": "area",
          "sizeref": 1365.35,
          "symbol": "circle"
         },
         "mode": "markers",
         "name": "Oil & Gas Operations",
         "orientation": "v",
         "showlegend": true,
         "type": "scatter",
         "x": [
          88240,
          81760,
          87520,
          133790,
          199740,
          203970,
          171500,
          119270,
          23710,
          89000,
          26070,
          16430,
          21960,
          11160,
          20010,
          54110,
          24280,
          18900,
          18080,
          11360,
          6380,
          61800
         ],
         "xaxis": "x",
         "y": [
          18210,
          23300,
          11040,
          6900,
          19240,
          18690,
          11890,
          13700,
          5180,
          7520,
          2790,
          3460,
          3630,
          3880,
          5400,
          7690,
          4240,
          4110,
          2850,
          3610,
          3130,
          4360
         ],
         "yaxis": "y"
        },
        {
         "hovertemplate": "<b>%{hovertext}</b><br><br>Industry=Conglomerates<br>Sales=%{x}<br>Profits=%{y}<br>Market_Value=%{marker.size}<extra></extra>",
         "hovertext": [
          "General Electric",
          "Siemens",
          "United Technologies",
          "ABB",
          "3M",
          "Honeywell International"
         ],
         "legendgroup": "Conglomerates",
         "marker": {
          "color": "#EF553B",
          "size": [
           330930,
           118470,
           69110,
           58070,
           55480,
           42830
          ],
          "sizemode": "area",
          "sizeref": 1365.35,
          "symbol": "circle"
         },
         "mode": "markers",
         "name": "Conglomerates",
         "orientation": "v",
         "showlegend": true,
         "type": "scatter",
         "x": [
          172740,
          103200,
          54760,
          30670,
          24460,
          34590
         ],
         "xaxis": "x",
         "y": [
          22210,
          5420,
          4220,
          2720,
          4100,
          2440
         ],
         "yaxis": "y"
        },
        {
         "hovertemplate": "<b>%{hovertext}</b><br><br>Industry=Telecommunications Services<br>Sales=%{x}<br>Profits=%{y}<br>Market_Value=%{marker.size}<extra></extra>",
         "hovertext": [
          "China Mobile",
          "AT&T",
          "Vodafone",
          "Telefónica",
          "América Móvil",
          "Verizon Communications",
          "France Telecom",
          "Deutsche Telekom",
          "China Telecom",
          "Nippon Telegraph & Tel",
          "Telstra",
          "Telecom Italia",
          "Singapore Telecom"
         ],
         "legendgroup": "Telecommunications Services",
         "marker": {
          "color": "#00cc96",
          "size": [
           308590,
           210220,
           171940,
           138420,
           104700,
           104270,
           87890,
           83190,
           61890,
           60270,
           56680,
           48620,
           43960
          ],
          "sizemode": "area",
          "sizeref": 1365.35,
          "symbol": "circle"
         },
         "mode": "markers",
         "name": "Telecommunications Services",
         "orientation": "v",
         "showlegend": true,
         "type": "scatter",
         "x": [
          37060,
          118930,
          61230,
          82400,
          28530,
          93470,
          77310,
          91260,
          22420,
          91570,
          20110,
          42810,
          8670
         ],
         "xaxis": "x",
         "y": [
          8290,
          11950,
          -10590,
          13000,
          5370,
          5650,
          9200,
          830,
          3480,
          4059.9999999999995,
          2760,
          3350,
          2490
         ],
         "yaxis": "y"
        },
        {
         "hovertemplate": "<b>%{hovertext}</b><br><br>Industry=Banking<br>Sales=%{x}<br>Profits=%{y}<br>Market_Value=%{marker.size}<extra></extra>",
         "hovertext": [
          "ICBC",
          "HSBC Holdings",
          "Bank of America",
          "Bank of China",
          "JPMorgan Chase",
          "CCB-China Construction Bank",
          "Citigroup",
          "Banco Santander",
          "Mitsubishi UFJ Financial",
          "Wells Fargo",
          "Intesa Sanpaolo",
          "BNP Paribas",
          "BBVA-Banco Bilbao Vizcaya",
          "UniCredit Group",
          "Royal Bank of Scotland",
          "Sberbank",
          "Bank of Communications",
          "Royal Bank of Canada",
          "China Merchants Bank",
          "Société Générale Group",
          "Barclays",
          "Wachovia",
          "Banco Bradesco",
          "Sumitomo Mitsui Financial",
          "US Bancorp",
          "Commonwealth Bank",
          "Lloyds TSB Group",
          "Bank of New York Mellon",
          "Mizuho Financial",
          "Toronto-Dominion Bank",
          "Bank of Nova Scotia",
          "Standard Chartered Group",
          "Crédit Agricole",
          "HBOS",
          "National Australia Bank",
          "KBC Group"
         ],
         "legendgroup": "Banking",
         "marker": {
          "color": "#ab63fa",
          "size": [
           289570,
           180810,
           176530,
           171450,
           136880,
           126550,
           123440,
           113270,
           98140,
           96370,
           86290,
           81900,
           78290,
           77460,
           76640,
           71880,
           71240,
           64410,
           63650,
           62930,
           62430,
           60690,
           59800,
           56100,
           55390,
           51860,
           50950,
           50270,
           48800,
           48380,
           48080,
           46940,
           45730,
           44840,
           43950,
           43660
          ],
          "sizemode": "area",
          "sizeref": 1365.35,
          "symbol": "circle"
         },
         "mode": "markers",
         "name": "Banking",
         "orientation": "v",
         "showlegend": true,
         "type": "scatter",
         "x": [
          37480,
          146500,
          119190,
          31130,
          116350,
          29160,
          159230,
          72260,
          49490,
          53590,
          22250,
          116160,
          54340,
          63670,
          108450,
          14750,
          8850,
          43570,
          4840,
          103440,
          79700,
          55530,
          36120,
          33040,
          20310,
          26480,
          58740,
          14780,
          32520.000000000004,
          26510,
          28020,
          21250,
          101590,
          100320,
          38880,
          35220
         ],
         "xaxis": "x",
         "y": [
          6310,
          19130,
          14980,
          5490,
          15370,
          5930,
          3620,
          10020,
          7500,
          8060.000000000001,
          3380,
          10710,
          8940,
          7190,
          14620,
          3150,
          1570,
          5770,
          870,
          1300,
          8760,
          6310,
          4110,
          3760,
          4320,
          3800,
          6530,
          2220,
          5280,
          4200,
          4250,
          2810,
          6490,
          8100,
          4059.9999999999995,
          4660
         ],
         "yaxis": "y"
        },
        {
         "hovertemplate": "<b>%{hovertext}</b><br><br>Industry=IT Software & Services<br>Sales=%{x}<br>Profits=%{y}<br>Market_Value=%{marker.size}<extra></extra>",
         "hovertext": [
          "Microsoft",
          "IBM",
          "Google",
          "Oracle",
          "SAP"
         ],
         "legendgroup": "IT Software & Services",
         "marker": {
          "color": "#FFA15A",
          "size": [
           253150,
           157620,
           147660,
           96570,
           57770
          ],
          "sizemode": "area",
          "sizeref": 1365.35,
          "symbol": "circle"
         },
         "mode": "markers",
         "name": "IT Software & Services",
         "orientation": "v",
         "showlegend": true,
         "type": "scatter",
         "x": [
          57900,
          98790,
          16590,
          20080,
          14960
         ],
         "xaxis": "x",
         "y": [
          16960,
          10420,
          4200,
          4780,
          2810
         ],
         "yaxis": "y"
        },
        {
         "hovertemplate": "<b>%{hovertext}</b><br><br>Industry=Diversified Financials<br>Sales=%{x}<br>Profits=%{y}<br>Market_Value=%{marker.size}<extra></extra>",
         "hovertext": [
          "Berkshire Hathaway",
          "UBS",
          "Goldman Sachs Group",
          "Deutsche Bank",
          "Credit Suisse Group",
          "Fortis",
          "American Express",
          "Merrill Lynch",
          "Morgan Stanley",
          "Sun Hung Kai Properties"
         ],
         "legendgroup": "Diversified Financials",
         "marker": {
          "color": "#19d3f3",
          "size": [
           216650,
           68260,
           67160,
           56270,
           50850,
           49040,
           48980,
           48020,
           46530,
           45820
          ],
          "sizemode": "area",
          "sizeref": 1365.35,
          "symbol": "circle"
         },
         "mode": "markers",
         "name": "Diversified Financials",
         "orientation": "v",
         "showlegend": true,
         "type": "scatter",
         "x": [
          118250,
          116980,
          87970,
          95500,
          83720,
          121190,
          31560,
          62680,
          85330,
          3960
         ],
         "xaxis": "x",
         "y": [
          13210,
          -3650,
          11600,
          7450,
          7530,
          5460,
          4010,
          -7780,
          2560,
          2710
         ],
         "yaxis": "y"
        },
        {
         "hovertemplate": "<b>%{hovertext}</b><br><br>Industry=Consumer Durables<br>Sales=%{x}<br>Profits=%{y}<br>Market_Value=%{marker.size}<extra></extra>",
         "hovertext": [
          "Procter & Gamble",
          "Toyota Motor",
          "Volkswagen Group",
          "Daimler",
          "L'Oréal Group",
          "Honda Motor"
         ],
         "legendgroup": "Consumer Durables",
         "marker": {
          "color": "#FF6692",
          "size": [
           203670,
           175080,
           90230,
           85160,
           72990,
           56820
          ],
          "sizemode": "area",
          "sizeref": 1365.35,
          "symbol": "circle"
         },
         "mode": "markers",
         "name": "Consumer Durables",
         "orientation": "v",
         "showlegend": true,
         "type": "scatter",
         "x": [
          79740,
          203800,
          149000,
          145110,
          20830,
          94350
         ],
         "xaxis": "x",
         "y": [
          11130,
          13990,
          5640,
          5820,
          2720,
          5040
         ],
         "yaxis": "y"
        },
        {
         "hovertemplate": "<b>%{hovertext}</b><br><br>Industry=Materials<br>Sales=%{x}<br>Profits=%{y}<br>Market_Value=%{marker.size}<extra></extra>",
         "hovertext": [
          "BHP Billiton",
          "Rio Tinto",
          "Vale",
          "China Shenhua Energy",
          "ArcelorMittal",
          "Anglo American",
          "Xstrata",
          "MMC Norilsk Nickel",
          "Aluminum Corp of China",
          "Posco",
          "Barrick Gold",
          "Baoshan Iron & Steel"
         ],
         "legendgroup": "Materials",
         "marker": {
          "color": "#B6E880",
          "size": [
           190620,
           165480,
           161390,
           134730,
           108820,
           85050,
           77010,
           51450,
           51080,
           49210,
           45510,
           42160
          ],
          "sizemode": "area",
          "sizeref": 1365.35,
          "symbol": "circle"
         },
         "mode": "markers",
         "name": "Materials",
         "orientation": "v",
         "showlegend": true,
         "type": "scatter",
         "x": [
          39500,
          29700,
          33230,
          8230,
          105220,
          25470,
          28210,
          11930,
          7930,
          27910,
          6780,
          20150
         ],
         "xaxis": "x",
         "y": [
          13420,
          7310,
          10260,
          2240,
          10370,
          5290,
          5500,
          6190,
          1500,
          3580,
          1200,
          1670
         ],
         "yaxis": "y"
        },
        {
         "hovertemplate": "<b>%{hovertext}</b><br><br>Industry=Food, Drink & Tobacco<br>Sales=%{x}<br>Profits=%{y}<br>Market_Value=%{marker.size}<extra></extra>",
         "hovertext": [
          "Nestlé",
          "Altria Group",
          "Coca-Cola",
          "PepsiCo",
          "Unilever",
          "British Amer Tobacco",
          "InBev",
          "Diageo",
          "Japan Tobacco",
          "Kraft Foods"
         ],
         "legendgroup": "Food, Drink & Tobacco",
         "marker": {
          "color": "#FF97FF",
          "size": [
           188110,
           154200,
           135860,
           111420,
           92750,
           76070,
           55890,
           52920,
           48860,
           47790
          ],
          "sizemode": "area",
          "sizeref": 1365.35,
          "symbol": "circle"
         },
         "mode": "markers",
         "name": "Food, Drink & Tobacco",
         "orientation": "v",
         "showlegend": true,
         "type": "scatter",
         "x": [
          94760,
          38050,
          28860,
          39470,
          54820,
          19880,
          21070,
          15020,
          17530,
          37240
         ],
         "xaxis": "x",
         "y": [
          9380,
          9160,
          5980,
          5660,
          5300,
          4230,
          3210,
          2990,
          1790,
          2590
         ],
         "yaxis": "y"
        },
        {
         "hovertemplate": "<b>%{hovertext}</b><br><br>Industry=Drugs & Biotechnology<br>Sales=%{x}<br>Profits=%{y}<br>Market_Value=%{marker.size}<extra></extra>",
         "hovertext": [
          "Johnson & Johnson",
          "Roche Holding",
          "Pfizer",
          "GlaxoSmithKline",
          "Novartis",
          "Sanofi-aventis",
          "Merck & Co",
          "Wyeth",
          "Eli Lilly & Co",
          "AstraZeneca",
          "Amgen",
          "Takeda Pharmaceutical",
          "Bristol-Myers Squibb",
          "Gilead Sciences",
          "Novo Nordisk"
         ],
         "legendgroup": "Drugs & Biotechnology",
         "marker": {
          "color": "#FECB52",
          "size": [
           175510,
           169320,
           152170,
           120050,
           111620,
           101170,
           95920,
           58360,
           56870,
           54860,
           49510,
           47440,
           44750,
           43950,
           42650
          ],
          "sizemode": "area",
          "sizeref": 1365.35,
          "symbol": "circle"
         },
         "mode": "markers",
         "name": "Drugs & Biotechnology",
         "orientation": "v",
         "showlegend": true,
         "type": "scatter",
         "x": [
          61100,
          40650,
          48420,
          45070,
          40220,
          40950,
          24200,
          22400,
          18630,
          29210,
          14770,
          11110,
          19350,
          4230,
          8189.999999999999
         ],
         "xaxis": "x",
         "y": [
          10580,
          8600,
          8140.000000000001,
          10350,
          12620,
          7680,
          3280,
          4620,
          2950,
          5530,
          3170,
          2860,
          2170,
          1620,
          1670
         ],
         "yaxis": "y"
        },
        {
         "hovertemplate": "<b>%{hovertext}</b><br><br>Industry=Utilities<br>Sales=%{x}<br>Profits=%{y}<br>Market_Value=%{marker.size}<extra></extra>",
         "hovertext": [
          "EDF Group",
          "E.ON",
          "Suez Group",
          "Iberdrola",
          "RWE Group",
          "ENEL",
          "Gaz de France",
          "Exelon",
          "UES of Russia",
          "CEZ",
          "Veolia Environnement"
         ],
         "legendgroup": "Utilities",
         "marker": {
          "color": "#636efa",
          "size": [
           170810,
           126220,
           83560,
           72780,
           68190,
           67000,
           56730,
           49490,
           47090,
           43860,
           42780
          ],
          "sizemode": "area",
          "sizeref": 1365.35,
          "symbol": "circle"
         },
         "mode": "markers",
         "name": "Utilities",
         "orientation": "v",
         "showlegend": true,
         "type": "scatter",
         "x": [
          81600,
          94040,
          64959.99999999999,
          25500,
          56170,
          49470,
          36470,
          18920,
          34000,
          7650,
          37760
         ],
         "xaxis": "x",
         "y": [
          7690,
          9860,
          5370,
          3440,
          3640,
          4010,
          3030,
          2740,
          3170,
          1330,
          1000
         ],
         "yaxis": "y"
        },
        {
         "hovertemplate": "<b>%{hovertext}</b><br><br>Industry=Technology Hardware & Equipment<br>Sales=%{x}<br>Profits=%{y}<br>Market_Value=%{marker.size}<extra></extra>",
         "hovertext": [
          "Nokia",
          "Cisco Systems",
          "Hewlett-Packard",
          "Apple",
          "Qualcomm",
          "Nintendo",
          "Canon",
          "Research In Motion",
          "Sony",
          "Matsushita Electric Indl",
          "Dell"
         ],
         "legendgroup": "Technology Hardware & Equipment",
         "marker": {
          "color": "#EF553B",
          "size": [
           145660,
           145390,
           122040,
           109880,
           68340,
           65600,
           61750,
           58730,
           48030,
           45310,
           44600
          ],
          "sizemode": "area",
          "sizeref": 1365.35,
          "symbol": "circle"
         },
         "mode": "markers",
         "name": "Technology Hardware & Equipment",
         "orientation": "v",
         "showlegend": true,
         "type": "scatter",
         "x": [
          74540,
          37680,
          107670,
          26500,
          9290,
          8230,
          40060,
          2950,
          70600,
          77510,
          61130
         ],
         "xaxis": "x",
         "y": [
          10520,
          8070,
          7850,
          4070.0000000000005,
          3420,
          1480,
          4370,
          610,
          1080,
          1850,
          2950
         ],
         "yaxis": "y"
        },
        {
         "hovertemplate": "<b>%{hovertext}</b><br><br>Industry=Insurance<br>Sales=%{x}<br>Profits=%{y}<br>Market_Value=%{marker.size}<extra></extra>",
         "hovertext": [
          "China Life Insurance",
          "American Intl Group",
          "Allianz",
          "ING Group",
          "AXA Group",
          "Ping An Insurance Group",
          "Generali Group",
          "Manulife Financial",
          "Zurich Financial Services"
         ],
         "legendgroup": "Insurance",
         "marker": {
          "color": "#00cc96",
          "size": [
           144450,
           118200,
           80300,
           75780,
           70330,
           67930,
           60790,
           59180,
           45760
          ],
          "sizemode": "area",
          "sizeref": 1365.35,
          "symbol": "circle"
         },
         "mode": "markers",
         "name": "Insurance",
         "orientation": "v",
         "showlegend": true,
         "type": "scatter",
         "x": [
          18860,
          110060,
          139120,
          197930,
          151700,
          11280,
          102160,
          33080,
          55050
         ],
         "xaxis": "x",
         "y": [
          2560,
          6200,
          10900,
          12650,
          7750,
          1000,
          3170,
          4010,
          5630
         ],
         "yaxis": "y"
        },
        {
         "hovertemplate": "<b>%{hovertext}</b><br><br>Industry=Chemicals<br>Sales=%{x}<br>Profits=%{y}<br>Market_Value=%{marker.size}<extra></extra>",
         "hovertext": [
          "Saudi Basic Industries",
          "Monsanto",
          "BASF",
          "Bayer Group",
          "Potash of Saskatchewan",
          "Mosaic"
         ],
         "legendgroup": "Chemicals",
         "marker": {
          "color": "#ab63fa",
          "size": [
           124850,
           63390,
           60960,
           59000,
           50550,
           49320
          ],
          "sizemode": "area",
          "sizeref": 1365.35,
          "symbol": "circle"
         },
         "mode": "markers",
         "name": "Chemicals",
         "orientation": "v",
         "showlegend": true,
         "type": "scatter",
         "x": [
          23020,
          9120,
          84600,
          38200,
          5600,
          7160
         ],
         "xaxis": "x",
         "y": [
          5410,
          1160,
          5930,
          2320,
          1180,
          940
         ],
         "yaxis": "y"
        },
        {
         "hovertemplate": "<b>%{hovertext}</b><br><br>Industry=Semiconductors<br>Sales=%{x}<br>Profits=%{y}<br>Market_Value=%{marker.size}<extra></extra>",
         "hovertext": [
          "Intel",
          "Samsung Electronics",
          "Taiwan Semiconductor"
         ],
         "legendgroup": "Semiconductors",
         "marker": {
          "color": "#FFA15A",
          "size": [
           115590,
           87840,
           52660
          ],
          "sizemode": "area",
          "sizeref": 1365.35,
          "symbol": "circle"
         },
         "mode": "markers",
         "name": "Semiconductors",
         "orientation": "v",
         "showlegend": true,
         "type": "scatter",
         "x": [
          38330,
          92260,
          9950
         ],
         "xaxis": "x",
         "y": [
          6980,
          8560,
          3370
         ],
         "yaxis": "y"
        },
        {
         "hovertemplate": "<b>%{hovertext}</b><br><br>Industry=Health Care Equipment & Services<br>Sales=%{x}<br>Profits=%{y}<br>Market_Value=%{marker.size}<extra></extra>",
         "hovertext": [
          "Abbott Laboratories",
          "UnitedHealth Group",
          "Medtronic"
         ],
         "legendgroup": "Health Care Equipment & Services",
         "marker": {
          "color": "#19d3f3",
          "size": [
           82770,
           58160,
           55810
          ],
          "sizemode": "area",
          "sizeref": 1365.35,
          "symbol": "circle"
         },
         "mode": "markers",
         "name": "Health Care Equipment & Services",
         "orientation": "v",
         "showlegend": true,
         "type": "scatter",
         "x": [
          25910,
          75430,
          12930
         ],
         "xaxis": "x",
         "y": [
          3610,
          4650,
          2230
         ],
         "yaxis": "y"
        },
        {
         "hovertemplate": "<b>%{hovertext}</b><br><br>Industry=Transportation<br>Sales=%{x}<br>Profits=%{y}<br>Market_Value=%{marker.size}<extra></extra>",
         "hovertext": [
          "United Parcel Service",
          "Mxller-Maersk",
          "China Cosco Holdings"
         ],
         "legendgroup": "Transportation",
         "marker": {
          "color": "#FF6692",
          "size": [
           73810,
           45660,
           44950
          ],
          "sizemode": "area",
          "sizeref": 1365.35,
          "symbol": "circle"
         },
         "mode": "markers",
         "name": "Transportation",
         "orientation": "v",
         "showlegend": true,
         "type": "scatter",
         "x": [
          49690,
          46830,
          6400
         ],
         "xaxis": "x",
         "y": [
          380,
          2750,
          250
         ],
         "yaxis": "y"
        },
        {
         "hovertemplate": "<b>%{hovertext}</b><br><br>Industry=Aerospace & Defense<br>Sales=%{x}<br>Profits=%{y}<br>Market_Value=%{marker.size}<extra></extra>",
         "hovertext": [
          "Boeing"
         ],
         "legendgroup": "Aerospace & Defense",
         "marker": {
          "color": "#B6E880",
          "size": [
           63320
          ],
          "sizemode": "area",
          "sizeref": 1365.35,
          "symbol": "circle"
         },
         "mode": "markers",
         "name": "Aerospace & Defense",
         "orientation": "v",
         "showlegend": true,
         "type": "scatter",
         "x": [
          66390
         ],
         "xaxis": "x",
         "y": [
          4070.0000000000005
         ],
         "yaxis": "y"
        },
        {
         "hovertemplate": "<b>%{hovertext}</b><br><br>Industry=Food Markets<br>Sales=%{x}<br>Profits=%{y}<br>Market_Value=%{marker.size}<extra></extra>",
         "hovertext": [
          "Tesco",
          "Carrefour Group"
         ],
         "legendgroup": "Food Markets",
         "marker": {
          "color": "#FF97FF",
          "size": [
           62410,
           49950
          ],
          "sizemode": "area",
          "sizeref": 1365.35,
          "symbol": "circle"
         },
         "mode": "markers",
         "name": "Food Markets",
         "orientation": "v",
         "showlegend": true,
         "type": "scatter",
         "x": [
          83610,
          112400
         ],
         "xaxis": "x",
         "y": [
          3710,
          3150
         ],
         "yaxis": "y"
        },
        {
         "hovertemplate": "<b>%{hovertext}</b><br><br>Industry=Hotels, Restaurants & Leisure<br>Sales=%{x}<br>Profits=%{y}<br>Market_Value=%{marker.size}<extra></extra>",
         "hovertext": [
          "McDonald's"
         ],
         "legendgroup": "Hotels, Restaurants & Leisure",
         "marker": {
          "color": "#FECB52",
          "size": [
           62320
          ],
          "sizemode": "area",
          "sizeref": 1365.35,
          "symbol": "circle"
         },
         "mode": "markers",
         "name": "Hotels, Restaurants & Leisure",
         "orientation": "v",
         "showlegend": true,
         "type": "scatter",
         "x": [
          22790
         ],
         "xaxis": "x",
         "y": [
          2400
         ],
         "yaxis": "y"
        },
        {
         "hovertemplate": "<b>%{hovertext}</b><br><br>Industry=Media<br>Sales=%{x}<br>Profits=%{y}<br>Market_Value=%{marker.size}<extra></extra>",
         "hovertext": [
          "Walt Disney",
          "Comcast",
          "News Corp",
          "Time Warner",
          "Vivendi"
         ],
         "legendgroup": "Media",
         "marker": {
          "color": "#636efa",
          "size": [
           61030,
           58840,
           57570,
           55830,
           46360
          ],
          "sizemode": "area",
          "sizeref": 1365.35,
          "symbol": "circle"
         },
         "mode": "markers",
         "name": "Media",
         "orientation": "v",
         "showlegend": true,
         "type": "scatter",
         "x": [
          36380,
          30900,
          30550,
          46480,
          31620
         ],
         "xaxis": "x",
         "y": [
          4240,
          2590,
          3330,
          4390,
          3830
         ],
         "yaxis": "y"
        },
        {
         "hovertemplate": "<b>%{hovertext}</b><br><br>Industry=Retailing<br>Sales=%{x}<br>Profits=%{y}<br>Market_Value=%{marker.size}<extra></extra>",
         "hovertext": [
          "CVS Caremark",
          "H&M Hennes & Mauritz",
          "Home Depot",
          "Target"
         ],
         "legendgroup": "Retailing",
         "marker": {
          "color": "#EF553B",
          "size": [
           57820,
           46810,
           44810,
           43070
          ],
          "sizemode": "area",
          "sizeref": 1365.35,
          "symbol": "circle"
         },
         "mode": "markers",
         "name": "Retailing",
         "orientation": "v",
         "showlegend": true,
         "type": "scatter",
         "x": [
          76330,
          12310,
          77350,
          63370
         ],
         "xaxis": "x",
         "y": [
          2640,
          2130,
          4400,
          2850
         ],
         "yaxis": "y"
        },
        {
         "hovertemplate": "<b>%{hovertext}</b><br><br>Industry=Trading Companies<br>Sales=%{x}<br>Profits=%{y}<br>Market_Value=%{marker.size}<extra></extra>",
         "hovertext": [
          "Mitsubishi"
         ],
         "legendgroup": "Trading Companies",
         "marker": {
          "color": "#00cc96",
          "size": [
           53090
          ],
          "sizemode": "area",
          "sizeref": 1365.35,
          "symbol": "circle"
         },
         "mode": "markers",
         "name": "Trading Companies",
         "orientation": "v",
         "showlegend": true,
         "type": "scatter",
         "x": [
          43290
         ],
         "xaxis": "x",
         "y": [
          3540
         ],
         "yaxis": "y"
        },
        {
         "hovertemplate": "<b>%{hovertext}</b><br><br>Industry=Capital Goods<br>Sales=%{x}<br>Profits=%{y}<br>Market_Value=%{marker.size}<extra></extra>",
         "hovertext": [
          "Caterpillar"
         ],
         "legendgroup": "Capital Goods",
         "marker": {
          "color": "#ab63fa",
          "size": [
           45130
          ],
          "sizemode": "area",
          "sizeref": 1365.35,
          "symbol": "circle"
         },
         "mode": "markers",
         "name": "Capital Goods",
         "orientation": "v",
         "showlegend": true,
         "type": "scatter",
         "x": [
          44960
         ],
         "xaxis": "x",
         "y": [
          3540
         ],
         "yaxis": "y"
        }
       ],
       "layout": {
        "legend": {
         "itemsizing": "constant",
         "title": {
          "text": "Industry"
         },
         "tracegroupgap": 0
        },
        "margin": {
         "t": 60
        },
        "template": {
         "data": {
          "bar": [
           {
            "error_x": {
             "color": "#2a3f5f"
            },
            "error_y": {
             "color": "#2a3f5f"
            },
            "marker": {
             "line": {
              "color": "#E5ECF6",
              "width": 0.5
             },
             "pattern": {
              "fillmode": "overlay",
              "size": 10,
              "solidity": 0.2
             }
            },
            "type": "bar"
           }
          ],
          "barpolar": [
           {
            "marker": {
             "line": {
              "color": "#E5ECF6",
              "width": 0.5
             },
             "pattern": {
              "fillmode": "overlay",
              "size": 10,
              "solidity": 0.2
             }
            },
            "type": "barpolar"
           }
          ],
          "carpet": [
           {
            "aaxis": {
             "endlinecolor": "#2a3f5f",
             "gridcolor": "white",
             "linecolor": "white",
             "minorgridcolor": "white",
             "startlinecolor": "#2a3f5f"
            },
            "baxis": {
             "endlinecolor": "#2a3f5f",
             "gridcolor": "white",
             "linecolor": "white",
             "minorgridcolor": "white",
             "startlinecolor": "#2a3f5f"
            },
            "type": "carpet"
           }
          ],
          "choropleth": [
           {
            "colorbar": {
             "outlinewidth": 0,
             "ticks": ""
            },
            "type": "choropleth"
           }
          ],
          "contour": [
           {
            "colorbar": {
             "outlinewidth": 0,
             "ticks": ""
            },
            "colorscale": [
             [
              0,
              "#0d0887"
             ],
             [
              0.1111111111111111,
              "#46039f"
             ],
             [
              0.2222222222222222,
              "#7201a8"
             ],
             [
              0.3333333333333333,
              "#9c179e"
             ],
             [
              0.4444444444444444,
              "#bd3786"
             ],
             [
              0.5555555555555556,
              "#d8576b"
             ],
             [
              0.6666666666666666,
              "#ed7953"
             ],
             [
              0.7777777777777778,
              "#fb9f3a"
             ],
             [
              0.8888888888888888,
              "#fdca26"
             ],
             [
              1,
              "#f0f921"
             ]
            ],
            "type": "contour"
           }
          ],
          "contourcarpet": [
           {
            "colorbar": {
             "outlinewidth": 0,
             "ticks": ""
            },
            "type": "contourcarpet"
           }
          ],
          "heatmap": [
           {
            "colorbar": {
             "outlinewidth": 0,
             "ticks": ""
            },
            "colorscale": [
             [
              0,
              "#0d0887"
             ],
             [
              0.1111111111111111,
              "#46039f"
             ],
             [
              0.2222222222222222,
              "#7201a8"
             ],
             [
              0.3333333333333333,
              "#9c179e"
             ],
             [
              0.4444444444444444,
              "#bd3786"
             ],
             [
              0.5555555555555556,
              "#d8576b"
             ],
             [
              0.6666666666666666,
              "#ed7953"
             ],
             [
              0.7777777777777778,
              "#fb9f3a"
             ],
             [
              0.8888888888888888,
              "#fdca26"
             ],
             [
              1,
              "#f0f921"
             ]
            ],
            "type": "heatmap"
           }
          ],
          "heatmapgl": [
           {
            "colorbar": {
             "outlinewidth": 0,
             "ticks": ""
            },
            "colorscale": [
             [
              0,
              "#0d0887"
             ],
             [
              0.1111111111111111,
              "#46039f"
             ],
             [
              0.2222222222222222,
              "#7201a8"
             ],
             [
              0.3333333333333333,
              "#9c179e"
             ],
             [
              0.4444444444444444,
              "#bd3786"
             ],
             [
              0.5555555555555556,
              "#d8576b"
             ],
             [
              0.6666666666666666,
              "#ed7953"
             ],
             [
              0.7777777777777778,
              "#fb9f3a"
             ],
             [
              0.8888888888888888,
              "#fdca26"
             ],
             [
              1,
              "#f0f921"
             ]
            ],
            "type": "heatmapgl"
           }
          ],
          "histogram": [
           {
            "marker": {
             "pattern": {
              "fillmode": "overlay",
              "size": 10,
              "solidity": 0.2
             }
            },
            "type": "histogram"
           }
          ],
          "histogram2d": [
           {
            "colorbar": {
             "outlinewidth": 0,
             "ticks": ""
            },
            "colorscale": [
             [
              0,
              "#0d0887"
             ],
             [
              0.1111111111111111,
              "#46039f"
             ],
             [
              0.2222222222222222,
              "#7201a8"
             ],
             [
              0.3333333333333333,
              "#9c179e"
             ],
             [
              0.4444444444444444,
              "#bd3786"
             ],
             [
              0.5555555555555556,
              "#d8576b"
             ],
             [
              0.6666666666666666,
              "#ed7953"
             ],
             [
              0.7777777777777778,
              "#fb9f3a"
             ],
             [
              0.8888888888888888,
              "#fdca26"
             ],
             [
              1,
              "#f0f921"
             ]
            ],
            "type": "histogram2d"
           }
          ],
          "histogram2dcontour": [
           {
            "colorbar": {
             "outlinewidth": 0,
             "ticks": ""
            },
            "colorscale": [
             [
              0,
              "#0d0887"
             ],
             [
              0.1111111111111111,
              "#46039f"
             ],
             [
              0.2222222222222222,
              "#7201a8"
             ],
             [
              0.3333333333333333,
              "#9c179e"
             ],
             [
              0.4444444444444444,
              "#bd3786"
             ],
             [
              0.5555555555555556,
              "#d8576b"
             ],
             [
              0.6666666666666666,
              "#ed7953"
             ],
             [
              0.7777777777777778,
              "#fb9f3a"
             ],
             [
              0.8888888888888888,
              "#fdca26"
             ],
             [
              1,
              "#f0f921"
             ]
            ],
            "type": "histogram2dcontour"
           }
          ],
          "mesh3d": [
           {
            "colorbar": {
             "outlinewidth": 0,
             "ticks": ""
            },
            "type": "mesh3d"
           }
          ],
          "parcoords": [
           {
            "line": {
             "colorbar": {
              "outlinewidth": 0,
              "ticks": ""
             }
            },
            "type": "parcoords"
           }
          ],
          "pie": [
           {
            "automargin": true,
            "type": "pie"
           }
          ],
          "scatter": [
           {
            "fillpattern": {
             "fillmode": "overlay",
             "size": 10,
             "solidity": 0.2
            },
            "type": "scatter"
           }
          ],
          "scatter3d": [
           {
            "line": {
             "colorbar": {
              "outlinewidth": 0,
              "ticks": ""
             }
            },
            "marker": {
             "colorbar": {
              "outlinewidth": 0,
              "ticks": ""
             }
            },
            "type": "scatter3d"
           }
          ],
          "scattercarpet": [
           {
            "marker": {
             "colorbar": {
              "outlinewidth": 0,
              "ticks": ""
             }
            },
            "type": "scattercarpet"
           }
          ],
          "scattergeo": [
           {
            "marker": {
             "colorbar": {
              "outlinewidth": 0,
              "ticks": ""
             }
            },
            "type": "scattergeo"
           }
          ],
          "scattergl": [
           {
            "marker": {
             "colorbar": {
              "outlinewidth": 0,
              "ticks": ""
             }
            },
            "type": "scattergl"
           }
          ],
          "scattermapbox": [
           {
            "marker": {
             "colorbar": {
              "outlinewidth": 0,
              "ticks": ""
             }
            },
            "type": "scattermapbox"
           }
          ],
          "scatterpolar": [
           {
            "marker": {
             "colorbar": {
              "outlinewidth": 0,
              "ticks": ""
             }
            },
            "type": "scatterpolar"
           }
          ],
          "scatterpolargl": [
           {
            "marker": {
             "colorbar": {
              "outlinewidth": 0,
              "ticks": ""
             }
            },
            "type": "scatterpolargl"
           }
          ],
          "scatterternary": [
           {
            "marker": {
             "colorbar": {
              "outlinewidth": 0,
              "ticks": ""
             }
            },
            "type": "scatterternary"
           }
          ],
          "surface": [
           {
            "colorbar": {
             "outlinewidth": 0,
             "ticks": ""
            },
            "colorscale": [
             [
              0,
              "#0d0887"
             ],
             [
              0.1111111111111111,
              "#46039f"
             ],
             [
              0.2222222222222222,
              "#7201a8"
             ],
             [
              0.3333333333333333,
              "#9c179e"
             ],
             [
              0.4444444444444444,
              "#bd3786"
             ],
             [
              0.5555555555555556,
              "#d8576b"
             ],
             [
              0.6666666666666666,
              "#ed7953"
             ],
             [
              0.7777777777777778,
              "#fb9f3a"
             ],
             [
              0.8888888888888888,
              "#fdca26"
             ],
             [
              1,
              "#f0f921"
             ]
            ],
            "type": "surface"
           }
          ],
          "table": [
           {
            "cells": {
             "fill": {
              "color": "#EBF0F8"
             },
             "line": {
              "color": "white"
             }
            },
            "header": {
             "fill": {
              "color": "#C8D4E3"
             },
             "line": {
              "color": "white"
             }
            },
            "type": "table"
           }
          ]
         },
         "layout": {
          "annotationdefaults": {
           "arrowcolor": "#2a3f5f",
           "arrowhead": 0,
           "arrowwidth": 1
          },
          "autotypenumbers": "strict",
          "coloraxis": {
           "colorbar": {
            "outlinewidth": 0,
            "ticks": ""
           }
          },
          "colorscale": {
           "diverging": [
            [
             0,
             "#8e0152"
            ],
            [
             0.1,
             "#c51b7d"
            ],
            [
             0.2,
             "#de77ae"
            ],
            [
             0.3,
             "#f1b6da"
            ],
            [
             0.4,
             "#fde0ef"
            ],
            [
             0.5,
             "#f7f7f7"
            ],
            [
             0.6,
             "#e6f5d0"
            ],
            [
             0.7,
             "#b8e186"
            ],
            [
             0.8,
             "#7fbc41"
            ],
            [
             0.9,
             "#4d9221"
            ],
            [
             1,
             "#276419"
            ]
           ],
           "sequential": [
            [
             0,
             "#0d0887"
            ],
            [
             0.1111111111111111,
             "#46039f"
            ],
            [
             0.2222222222222222,
             "#7201a8"
            ],
            [
             0.3333333333333333,
             "#9c179e"
            ],
            [
             0.4444444444444444,
             "#bd3786"
            ],
            [
             0.5555555555555556,
             "#d8576b"
            ],
            [
             0.6666666666666666,
             "#ed7953"
            ],
            [
             0.7777777777777778,
             "#fb9f3a"
            ],
            [
             0.8888888888888888,
             "#fdca26"
            ],
            [
             1,
             "#f0f921"
            ]
           ],
           "sequentialminus": [
            [
             0,
             "#0d0887"
            ],
            [
             0.1111111111111111,
             "#46039f"
            ],
            [
             0.2222222222222222,
             "#7201a8"
            ],
            [
             0.3333333333333333,
             "#9c179e"
            ],
            [
             0.4444444444444444,
             "#bd3786"
            ],
            [
             0.5555555555555556,
             "#d8576b"
            ],
            [
             0.6666666666666666,
             "#ed7953"
            ],
            [
             0.7777777777777778,
             "#fb9f3a"
            ],
            [
             0.8888888888888888,
             "#fdca26"
            ],
            [
             1,
             "#f0f921"
            ]
           ]
          },
          "colorway": [
           "#636efa",
           "#EF553B",
           "#00cc96",
           "#ab63fa",
           "#FFA15A",
           "#19d3f3",
           "#FF6692",
           "#B6E880",
           "#FF97FF",
           "#FECB52"
          ],
          "font": {
           "color": "#2a3f5f"
          },
          "geo": {
           "bgcolor": "white",
           "lakecolor": "white",
           "landcolor": "#E5ECF6",
           "showlakes": true,
           "showland": true,
           "subunitcolor": "white"
          },
          "hoverlabel": {
           "align": "left"
          },
          "hovermode": "closest",
          "mapbox": {
           "style": "light"
          },
          "paper_bgcolor": "white",
          "plot_bgcolor": "#E5ECF6",
          "polar": {
           "angularaxis": {
            "gridcolor": "white",
            "linecolor": "white",
            "ticks": ""
           },
           "bgcolor": "#E5ECF6",
           "radialaxis": {
            "gridcolor": "white",
            "linecolor": "white",
            "ticks": ""
           }
          },
          "scene": {
           "xaxis": {
            "backgroundcolor": "#E5ECF6",
            "gridcolor": "white",
            "gridwidth": 2,
            "linecolor": "white",
            "showbackground": true,
            "ticks": "",
            "zerolinecolor": "white"
           },
           "yaxis": {
            "backgroundcolor": "#E5ECF6",
            "gridcolor": "white",
            "gridwidth": 2,
            "linecolor": "white",
            "showbackground": true,
            "ticks": "",
            "zerolinecolor": "white"
           },
           "zaxis": {
            "backgroundcolor": "#E5ECF6",
            "gridcolor": "white",
            "gridwidth": 2,
            "linecolor": "white",
            "showbackground": true,
            "ticks": "",
            "zerolinecolor": "white"
           }
          },
          "shapedefaults": {
           "line": {
            "color": "#2a3f5f"
           }
          },
          "ternary": {
           "aaxis": {
            "gridcolor": "white",
            "linecolor": "white",
            "ticks": ""
           },
           "baxis": {
            "gridcolor": "white",
            "linecolor": "white",
            "ticks": ""
           },
           "bgcolor": "#E5ECF6",
           "caxis": {
            "gridcolor": "white",
            "linecolor": "white",
            "ticks": ""
           }
          },
          "title": {
           "x": 0.05
          },
          "xaxis": {
           "automargin": true,
           "gridcolor": "white",
           "linecolor": "white",
           "ticks": "",
           "title": {
            "standoff": 15
           },
           "zerolinecolor": "white",
           "zerolinewidth": 2
          },
          "yaxis": {
           "automargin": true,
           "gridcolor": "white",
           "linecolor": "white",
           "ticks": "",
           "title": {
            "standoff": 15
           },
           "zerolinecolor": "white",
           "zerolinewidth": 2
          }
         }
        },
        "xaxis": {
         "anchor": "y",
         "domain": [
          0,
          1
         ],
         "title": {
          "text": "Sales"
         }
        },
        "yaxis": {
         "anchor": "x",
         "domain": [
          0,
          1
         ],
         "title": {
          "text": "Profits"
         }
        }
       }
      }
     },
     "metadata": {},
     "output_type": "display_data"
    }
   ],
   "source": [
    "#Let's take outliners out\n",
    "\n",
    "df_8_new = df_8[~df_8['Company'].isin(['ExxonMobil', 'Royal Dutch Shell', 'BP', 'Wal-Mart Stores'])]\n",
    "\n",
    "fig_satis_kar_8 = px.scatter(df_8_new, x='Sales', y='Profits', color='Industry', size='Market_Value', hover_name='Company')\n",
    "\n",
    "fig_satis_kar_8.show()\n"
   ]
  },
  {
   "cell_type": "code",
   "execution_count": 10,
   "metadata": {},
   "outputs": [
    {
     "data": {
      "text/plain": [
       "'\\ncountries = [\\'United States\\', \\'United Kingdom\\', \\'China\\', \\'Japan\\', \\'Germany\\', \\'Canada\\', \\'Switzerland\\', \\'Russia\\', \\'Italy\\', \\'Spain\\', \\'India\\', \\'South Korea\\']\\ndfs = [globals()[f\"df_{i}\"] for i in range(8, 23)]\\n\\ncountry_market_values = {}\\n\\nfor country in countries:\\n    country_values = []\\n    for df in dfs:\\n        country_values.append(df[df[\\'Country\\'] == country][\\'Market_Value\\'].sum())\\n    country_market_values[country] = country_values\\n\\na = list(range(2008,2023))\\n\\nfig_ülkeler = go.Figure(\\n    layout=dict(\\n        title=\"Ülkelere Göre Toplam Piyasa Değeri\",\\n        \\n        xaxis_title=\\'sene\\',\\n        yaxis_title=\\'milyon dolar\\',\\n    ), \\n)\\n\\nfig_ülkeler.add_trace(go.Scatter(x=a, y=country_market_values[\\'Canada\\'], name=\\'Kanada\\', line=dict(width=3, color=\\'red\\')))\\nfig_ülkeler.add_trace(go.Scatter(x=a, y=country_market_values[\\'China\\'], name=\\'Çin\\', line=dict(width=3, color=\\'yellow\\')))\\nfig_ülkeler.add_trace(go.Scatter(x=a, y=country_market_values[\\'Germany\\'], name=\\'Almanya\\', line=dict(width=3, color=\\'black\\')))\\nfig_ülkeler.add_trace(go.Scatter(x=a, y=country_market_values[\\'India\\'], name=\\'Hindistan\\', line=dict(width=3, color=\\'orange\\')))\\nfig_ülkeler.add_trace(go.Scatter(x=a, y=country_market_values[\\'Italy\\'], name=\\'İtalya\\', line=dict(width=3, color=\\'green\\')))\\nfig_ülkeler.add_trace(go.Scatter(x=a, y=country_market_values[\\'Japan\\'], name=\\'Japonya\\', line=dict(width=3, color=\\'pink\\')))\\nfig_ülkeler.add_trace(go.Scatter(x=a, y=country_market_values[\\'Russia\\'], name=\\'Rusya\\', line=dict(width=3, color=\\'grey\\')))\\nfig_ülkeler.add_trace(go.Scatter(x=a, y=country_market_values[\\'South Korea\\'], name=\\'Güney Kore\\', line=dict(width=3, color=\\'purple\\')))\\nfig_ülkeler.add_trace(go.Scatter(x=a, y=country_market_values[\\'Spain\\'], name=\\'İspanya\\', line=dict(width=3, color=\\'olive\\')))\\nfig_ülkeler.add_trace(go.Scatter(x=a, y=country_market_values[\\'Switzerland\\'], name=\\'İsviçre\\', line=dict(width=3, color=\\'blue\\')))\\nfig_ülkeler.add_trace(go.Scatter(x=a, y=country_market_values[\\'United Kingdom\\'], name=\\'Britanya\\', line=dict(width=3, color=\\'maroon\\')))\\nfig_ülkeler.add_trace(go.Scatter(x=a, y=country_market_values[\\'United States\\'], name=\\'ABD\\', line=dict(width=3, color=\\'navy\\')))\\n\\nfig_ülkeler.show()\\n'"
      ]
     },
     "execution_count": 10,
     "metadata": {},
     "output_type": "execute_result"
    }
   ],
   "source": [
    "#Benim amelelik\n",
    "\n",
    "'''\n",
    "countries = ['United States', 'United Kingdom', 'China', 'Japan', 'Germany', 'Canada', 'Switzerland', 'Russia', 'Italy', 'Spain', 'India', 'South Korea']\n",
    "dfs = [globals()[f\"df_{i}\"] for i in range(8, 23)]\n",
    "\n",
    "country_market_values = {}\n",
    "\n",
    "for country in countries:\n",
    "    country_values = []\n",
    "    for df in dfs:\n",
    "        country_values.append(df[df['Country'] == country]['Market_Value'].sum())\n",
    "    country_market_values[country] = country_values\n",
    "\n",
    "a = list(range(2008,2023))\n",
    "\n",
    "fig_ülkeler = go.Figure(\n",
    "    layout=dict(\n",
    "        title=\"Ülkelere Göre Toplam Piyasa Değeri\",\n",
    "        \n",
    "        xaxis_title='sene',\n",
    "        yaxis_title='milyon dolar',\n",
    "    ), \n",
    ")\n",
    "\n",
    "fig_ülkeler.add_trace(go.Scatter(x=a, y=country_market_values['Canada'], name='Kanada', line=dict(width=3, color='red')))\n",
    "fig_ülkeler.add_trace(go.Scatter(x=a, y=country_market_values['China'], name='Çin', line=dict(width=3, color='yellow')))\n",
    "fig_ülkeler.add_trace(go.Scatter(x=a, y=country_market_values['Germany'], name='Almanya', line=dict(width=3, color='black')))\n",
    "fig_ülkeler.add_trace(go.Scatter(x=a, y=country_market_values['India'], name='Hindistan', line=dict(width=3, color='orange')))\n",
    "fig_ülkeler.add_trace(go.Scatter(x=a, y=country_market_values['Italy'], name='İtalya', line=dict(width=3, color='green')))\n",
    "fig_ülkeler.add_trace(go.Scatter(x=a, y=country_market_values['Japan'], name='Japonya', line=dict(width=3, color='pink')))\n",
    "fig_ülkeler.add_trace(go.Scatter(x=a, y=country_market_values['Russia'], name='Rusya', line=dict(width=3, color='grey')))\n",
    "fig_ülkeler.add_trace(go.Scatter(x=a, y=country_market_values['South Korea'], name='Güney Kore', line=dict(width=3, color='purple')))\n",
    "fig_ülkeler.add_trace(go.Scatter(x=a, y=country_market_values['Spain'], name='İspanya', line=dict(width=3, color='olive')))\n",
    "fig_ülkeler.add_trace(go.Scatter(x=a, y=country_market_values['Switzerland'], name='İsviçre', line=dict(width=3, color='blue')))\n",
    "fig_ülkeler.add_trace(go.Scatter(x=a, y=country_market_values['United Kingdom'], name='Britanya', line=dict(width=3, color='maroon')))\n",
    "fig_ülkeler.add_trace(go.Scatter(x=a, y=country_market_values['United States'], name='ABD', line=dict(width=3, color='navy')))\n",
    "\n",
    "fig_ülkeler.show()\n",
    "'''"
   ]
  },
  {
   "cell_type": "code",
   "execution_count": 7,
   "metadata": {},
   "outputs": [
    {
     "data": {
      "application/vnd.plotly.v1+json": {
       "config": {
        "plotlyServerURL": "https://plot.ly"
       },
       "data": [
        {
         "line": {
          "color": "navy",
          "width": 3
         },
         "name": "United States",
         "type": "scatter",
         "x": [
          2008,
          2009,
          2010,
          2011,
          2012,
          2013,
          2014,
          2015,
          2016,
          2017,
          2018,
          2019,
          2020,
          2021,
          2022
         ],
         "y": [
          6.71378,
          4.17054,
          6.15185,
          6.999357,
          7.758093,
          8.753591,
          10.823605,
          11.868038,
          12.175299,
          13.558178,
          15.807291,
          16.994441,
          18.389963,
          26.689604,
          26.139079
         ]
        },
        {
         "line": {
          "color": "maroon",
          "width": 3
         },
         "name": "United Kingdom",
         "type": "scatter",
         "x": [
          2008,
          2009,
          2010,
          2011,
          2012,
          2013,
          2014,
          2015,
          2016,
          2017,
          2018,
          2019,
          2020,
          2021,
          2022
         ],
         "y": [
          1.37013,
          0.68592,
          1.11621,
          1.40384,
          1.411953,
          1.433261,
          1.558933,
          1.303652,
          1.194618,
          0.960801,
          1.059815,
          1.030164,
          0.828101,
          0.83865,
          1.366166
         ]
        },
        {
         "line": {
          "color": "yellow",
          "width": 3
         },
         "name": "China",
         "type": "scatter",
         "x": [
          2008,
          2009,
          2010,
          2011,
          2012,
          2013,
          2014,
          2015,
          2016,
          2017,
          2018,
          2019,
          2020,
          2021,
          2022
         ],
         "y": [
          2.00217,
          1.06443,
          1.50713,
          1.656973,
          1.575172,
          1.549348,
          1.34662,
          2.822251,
          2.181278,
          2.191015,
          3.152125,
          3.0713634,
          2.960931,
          4.42051,
          2.806332
         ]
        },
        {
         "line": {
          "color": "pink",
          "width": 3
         },
         "name": "Japan",
         "type": "scatter",
         "x": [
          2008,
          2009,
          2010,
          2011,
          2012,
          2013,
          2014,
          2015,
          2016,
          2017,
          2018,
          2019,
          2020,
          2021,
          2022
         ],
         "y": [
          0.86529,
          0.59584,
          0.72823,
          0.760568,
          0.68927,
          0.690509,
          0.60187,
          0.770245,
          0.739944,
          0.6678,
          0.846137,
          0.687249,
          0.687983,
          0.893681,
          0.77299
         ]
        },
        {
         "line": {
          "color": "black",
          "width": 3
         },
         "name": "Germany",
         "type": "scatter",
         "x": [
          2008,
          2009,
          2010,
          2011,
          2012,
          2013,
          2014,
          2015,
          2016,
          2017,
          2018,
          2019,
          2020,
          2021,
          2022
         ],
         "y": [
          0.88576,
          0.43086,
          0.55376,
          0.757705,
          0.731818,
          0.704049,
          0.878722,
          0.93625,
          0.782772,
          0.837355,
          0.891979,
          0.775029,
          0.549733,
          0.907201,
          0.723989
         ]
        },
        {
         "line": {
          "color": "red",
          "width": 3
         },
         "name": "Canada",
         "type": "scatter",
         "x": [
          2008,
          2009,
          2010,
          2011,
          2012,
          2013,
          2014,
          2015,
          2016,
          2017,
          2018,
          2019,
          2020,
          2021,
          2022
         ],
         "y": [
          0.48027,
          0.20663,
          0.34039,
          0.441203,
          0.357727,
          0.324685,
          0.304634,
          0.352047,
          0.380742,
          0.446561,
          0.41965,
          0.429051,
          0.409475,
          0.489773,
          1.48252
         ]
        },
        {
         "line": {
          "color": "blue",
          "width": 3
         },
         "name": "Switzerland",
         "type": "scatter",
         "x": [
          2008,
          2009,
          2010,
          2011,
          2012,
          2013,
          2014,
          2015,
          2016,
          2017,
          2018,
          2019,
          2020,
          2021,
          2022
         ],
         "y": [
          0.769,
          0.38457,
          0.67663,
          0.705652,
          0.710412,
          0.817979,
          1.035788,
          0.941754,
          0.828735,
          0.823207,
          0.830662,
          0.802985,
          0.79455,
          0.818814,
          1.036097
         ]
        },
        {
         "line": {
          "color": "grey",
          "width": 3
         },
         "name": "Russia",
         "type": "scatter",
         "x": [
          2008,
          2009,
          2010,
          2011,
          2012,
          2013,
          2014,
          2015,
          2016,
          2017,
          2018,
          2019,
          2020,
          2021,
          2022
         ],
         "y": [
          0.6174,
          0.13524,
          0.31865,
          0.521231,
          0.503492,
          0.313235,
          0.210294,
          0.113586,
          0.108265,
          0.178094,
          0.273553,
          0.271664,
          0.120723,
          0.163308,
          0
         ]
        },
        {
         "line": {
          "color": "green",
          "width": 3
         },
         "name": "Italy",
         "type": "scatter",
         "x": [
          2008,
          2009,
          2010,
          2011,
          2012,
          2013,
          2014,
          2015,
          2016,
          2017,
          2018,
          2019,
          2020,
          2021,
          2022
         ],
         "y": [
          0.46754,
          0.18828,
          0.25695,
          0.239243,
          0.097649,
          0.08629,
          0.255308,
          0.122649,
          0.104122,
          0.058229,
          0.195338,
          0.12562,
          0.06941,
          0.105433,
          0
         ]
        },
        {
         "line": {
          "color": "olive",
          "width": 3
         },
         "name": "Spain",
         "type": "scatter",
         "x": [
          2008,
          2009,
          2010,
          2011,
          2012,
          2013,
          2014,
          2015,
          2016,
          2017,
          2018,
          2019,
          2020,
          2021,
          2022
         ],
         "y": [
          0.44511,
          0.23972,
          0.3429,
          0.350709,
          0.252779,
          0.287223,
          0.349452,
          0.35123,
          0.277828,
          0.257416,
          0.205806,
          0.237755,
          0.141783,
          0.192409,
          0.070257
         ]
        },
        {
         "line": {
          "color": "orange",
          "width": 3
         },
         "name": "India",
         "type": "scatter",
         "x": [
          2008,
          2009,
          2010,
          2011,
          2012,
          2013,
          2014,
          2015,
          2016,
          2017,
          2018,
          2019,
          2020,
          2021,
          2022
         ],
         "y": [
          0.1434,
          0.11819,
          0.1946,
          0.217534,
          0.185571,
          0.201946,
          0.122181,
          0.080268,
          0.122174,
          0.254649,
          0.269107,
          0.332445,
          0.297669,
          0.507215,
          0.586906
         ]
        },
        {
         "line": {
          "color": "purple",
          "width": 3
         },
         "name": "South Korea",
         "type": "scatter",
         "x": [
          2008,
          2009,
          2010,
          2011,
          2012,
          2013,
          2014,
          2015,
          2016,
          2017,
          2018,
          2019,
          2020,
          2021,
          2022
         ],
         "y": [
          0.13705,
          0.04582,
          0.13432,
          0.112934,
          0.205594,
          0.174393,
          0.236188,
          0.199356,
          0.16155,
          0.254303,
          0.325865,
          0.272424,
          0.278742,
          0.673535,
          0.36726
         ]
        }
       ],
       "layout": {
        "template": {
         "data": {
          "bar": [
           {
            "error_x": {
             "color": "#2a3f5f"
            },
            "error_y": {
             "color": "#2a3f5f"
            },
            "marker": {
             "line": {
              "color": "#E5ECF6",
              "width": 0.5
             },
             "pattern": {
              "fillmode": "overlay",
              "size": 10,
              "solidity": 0.2
             }
            },
            "type": "bar"
           }
          ],
          "barpolar": [
           {
            "marker": {
             "line": {
              "color": "#E5ECF6",
              "width": 0.5
             },
             "pattern": {
              "fillmode": "overlay",
              "size": 10,
              "solidity": 0.2
             }
            },
            "type": "barpolar"
           }
          ],
          "carpet": [
           {
            "aaxis": {
             "endlinecolor": "#2a3f5f",
             "gridcolor": "white",
             "linecolor": "white",
             "minorgridcolor": "white",
             "startlinecolor": "#2a3f5f"
            },
            "baxis": {
             "endlinecolor": "#2a3f5f",
             "gridcolor": "white",
             "linecolor": "white",
             "minorgridcolor": "white",
             "startlinecolor": "#2a3f5f"
            },
            "type": "carpet"
           }
          ],
          "choropleth": [
           {
            "colorbar": {
             "outlinewidth": 0,
             "ticks": ""
            },
            "type": "choropleth"
           }
          ],
          "contour": [
           {
            "colorbar": {
             "outlinewidth": 0,
             "ticks": ""
            },
            "colorscale": [
             [
              0,
              "#0d0887"
             ],
             [
              0.1111111111111111,
              "#46039f"
             ],
             [
              0.2222222222222222,
              "#7201a8"
             ],
             [
              0.3333333333333333,
              "#9c179e"
             ],
             [
              0.4444444444444444,
              "#bd3786"
             ],
             [
              0.5555555555555556,
              "#d8576b"
             ],
             [
              0.6666666666666666,
              "#ed7953"
             ],
             [
              0.7777777777777778,
              "#fb9f3a"
             ],
             [
              0.8888888888888888,
              "#fdca26"
             ],
             [
              1,
              "#f0f921"
             ]
            ],
            "type": "contour"
           }
          ],
          "contourcarpet": [
           {
            "colorbar": {
             "outlinewidth": 0,
             "ticks": ""
            },
            "type": "contourcarpet"
           }
          ],
          "heatmap": [
           {
            "colorbar": {
             "outlinewidth": 0,
             "ticks": ""
            },
            "colorscale": [
             [
              0,
              "#0d0887"
             ],
             [
              0.1111111111111111,
              "#46039f"
             ],
             [
              0.2222222222222222,
              "#7201a8"
             ],
             [
              0.3333333333333333,
              "#9c179e"
             ],
             [
              0.4444444444444444,
              "#bd3786"
             ],
             [
              0.5555555555555556,
              "#d8576b"
             ],
             [
              0.6666666666666666,
              "#ed7953"
             ],
             [
              0.7777777777777778,
              "#fb9f3a"
             ],
             [
              0.8888888888888888,
              "#fdca26"
             ],
             [
              1,
              "#f0f921"
             ]
            ],
            "type": "heatmap"
           }
          ],
          "heatmapgl": [
           {
            "colorbar": {
             "outlinewidth": 0,
             "ticks": ""
            },
            "colorscale": [
             [
              0,
              "#0d0887"
             ],
             [
              0.1111111111111111,
              "#46039f"
             ],
             [
              0.2222222222222222,
              "#7201a8"
             ],
             [
              0.3333333333333333,
              "#9c179e"
             ],
             [
              0.4444444444444444,
              "#bd3786"
             ],
             [
              0.5555555555555556,
              "#d8576b"
             ],
             [
              0.6666666666666666,
              "#ed7953"
             ],
             [
              0.7777777777777778,
              "#fb9f3a"
             ],
             [
              0.8888888888888888,
              "#fdca26"
             ],
             [
              1,
              "#f0f921"
             ]
            ],
            "type": "heatmapgl"
           }
          ],
          "histogram": [
           {
            "marker": {
             "pattern": {
              "fillmode": "overlay",
              "size": 10,
              "solidity": 0.2
             }
            },
            "type": "histogram"
           }
          ],
          "histogram2d": [
           {
            "colorbar": {
             "outlinewidth": 0,
             "ticks": ""
            },
            "colorscale": [
             [
              0,
              "#0d0887"
             ],
             [
              0.1111111111111111,
              "#46039f"
             ],
             [
              0.2222222222222222,
              "#7201a8"
             ],
             [
              0.3333333333333333,
              "#9c179e"
             ],
             [
              0.4444444444444444,
              "#bd3786"
             ],
             [
              0.5555555555555556,
              "#d8576b"
             ],
             [
              0.6666666666666666,
              "#ed7953"
             ],
             [
              0.7777777777777778,
              "#fb9f3a"
             ],
             [
              0.8888888888888888,
              "#fdca26"
             ],
             [
              1,
              "#f0f921"
             ]
            ],
            "type": "histogram2d"
           }
          ],
          "histogram2dcontour": [
           {
            "colorbar": {
             "outlinewidth": 0,
             "ticks": ""
            },
            "colorscale": [
             [
              0,
              "#0d0887"
             ],
             [
              0.1111111111111111,
              "#46039f"
             ],
             [
              0.2222222222222222,
              "#7201a8"
             ],
             [
              0.3333333333333333,
              "#9c179e"
             ],
             [
              0.4444444444444444,
              "#bd3786"
             ],
             [
              0.5555555555555556,
              "#d8576b"
             ],
             [
              0.6666666666666666,
              "#ed7953"
             ],
             [
              0.7777777777777778,
              "#fb9f3a"
             ],
             [
              0.8888888888888888,
              "#fdca26"
             ],
             [
              1,
              "#f0f921"
             ]
            ],
            "type": "histogram2dcontour"
           }
          ],
          "mesh3d": [
           {
            "colorbar": {
             "outlinewidth": 0,
             "ticks": ""
            },
            "type": "mesh3d"
           }
          ],
          "parcoords": [
           {
            "line": {
             "colorbar": {
              "outlinewidth": 0,
              "ticks": ""
             }
            },
            "type": "parcoords"
           }
          ],
          "pie": [
           {
            "automargin": true,
            "type": "pie"
           }
          ],
          "scatter": [
           {
            "fillpattern": {
             "fillmode": "overlay",
             "size": 10,
             "solidity": 0.2
            },
            "type": "scatter"
           }
          ],
          "scatter3d": [
           {
            "line": {
             "colorbar": {
              "outlinewidth": 0,
              "ticks": ""
             }
            },
            "marker": {
             "colorbar": {
              "outlinewidth": 0,
              "ticks": ""
             }
            },
            "type": "scatter3d"
           }
          ],
          "scattercarpet": [
           {
            "marker": {
             "colorbar": {
              "outlinewidth": 0,
              "ticks": ""
             }
            },
            "type": "scattercarpet"
           }
          ],
          "scattergeo": [
           {
            "marker": {
             "colorbar": {
              "outlinewidth": 0,
              "ticks": ""
             }
            },
            "type": "scattergeo"
           }
          ],
          "scattergl": [
           {
            "marker": {
             "colorbar": {
              "outlinewidth": 0,
              "ticks": ""
             }
            },
            "type": "scattergl"
           }
          ],
          "scattermapbox": [
           {
            "marker": {
             "colorbar": {
              "outlinewidth": 0,
              "ticks": ""
             }
            },
            "type": "scattermapbox"
           }
          ],
          "scatterpolar": [
           {
            "marker": {
             "colorbar": {
              "outlinewidth": 0,
              "ticks": ""
             }
            },
            "type": "scatterpolar"
           }
          ],
          "scatterpolargl": [
           {
            "marker": {
             "colorbar": {
              "outlinewidth": 0,
              "ticks": ""
             }
            },
            "type": "scatterpolargl"
           }
          ],
          "scatterternary": [
           {
            "marker": {
             "colorbar": {
              "outlinewidth": 0,
              "ticks": ""
             }
            },
            "type": "scatterternary"
           }
          ],
          "surface": [
           {
            "colorbar": {
             "outlinewidth": 0,
             "ticks": ""
            },
            "colorscale": [
             [
              0,
              "#0d0887"
             ],
             [
              0.1111111111111111,
              "#46039f"
             ],
             [
              0.2222222222222222,
              "#7201a8"
             ],
             [
              0.3333333333333333,
              "#9c179e"
             ],
             [
              0.4444444444444444,
              "#bd3786"
             ],
             [
              0.5555555555555556,
              "#d8576b"
             ],
             [
              0.6666666666666666,
              "#ed7953"
             ],
             [
              0.7777777777777778,
              "#fb9f3a"
             ],
             [
              0.8888888888888888,
              "#fdca26"
             ],
             [
              1,
              "#f0f921"
             ]
            ],
            "type": "surface"
           }
          ],
          "table": [
           {
            "cells": {
             "fill": {
              "color": "#EBF0F8"
             },
             "line": {
              "color": "white"
             }
            },
            "header": {
             "fill": {
              "color": "#C8D4E3"
             },
             "line": {
              "color": "white"
             }
            },
            "type": "table"
           }
          ]
         },
         "layout": {
          "annotationdefaults": {
           "arrowcolor": "#2a3f5f",
           "arrowhead": 0,
           "arrowwidth": 1
          },
          "autotypenumbers": "strict",
          "coloraxis": {
           "colorbar": {
            "outlinewidth": 0,
            "ticks": ""
           }
          },
          "colorscale": {
           "diverging": [
            [
             0,
             "#8e0152"
            ],
            [
             0.1,
             "#c51b7d"
            ],
            [
             0.2,
             "#de77ae"
            ],
            [
             0.3,
             "#f1b6da"
            ],
            [
             0.4,
             "#fde0ef"
            ],
            [
             0.5,
             "#f7f7f7"
            ],
            [
             0.6,
             "#e6f5d0"
            ],
            [
             0.7,
             "#b8e186"
            ],
            [
             0.8,
             "#7fbc41"
            ],
            [
             0.9,
             "#4d9221"
            ],
            [
             1,
             "#276419"
            ]
           ],
           "sequential": [
            [
             0,
             "#0d0887"
            ],
            [
             0.1111111111111111,
             "#46039f"
            ],
            [
             0.2222222222222222,
             "#7201a8"
            ],
            [
             0.3333333333333333,
             "#9c179e"
            ],
            [
             0.4444444444444444,
             "#bd3786"
            ],
            [
             0.5555555555555556,
             "#d8576b"
            ],
            [
             0.6666666666666666,
             "#ed7953"
            ],
            [
             0.7777777777777778,
             "#fb9f3a"
            ],
            [
             0.8888888888888888,
             "#fdca26"
            ],
            [
             1,
             "#f0f921"
            ]
           ],
           "sequentialminus": [
            [
             0,
             "#0d0887"
            ],
            [
             0.1111111111111111,
             "#46039f"
            ],
            [
             0.2222222222222222,
             "#7201a8"
            ],
            [
             0.3333333333333333,
             "#9c179e"
            ],
            [
             0.4444444444444444,
             "#bd3786"
            ],
            [
             0.5555555555555556,
             "#d8576b"
            ],
            [
             0.6666666666666666,
             "#ed7953"
            ],
            [
             0.7777777777777778,
             "#fb9f3a"
            ],
            [
             0.8888888888888888,
             "#fdca26"
            ],
            [
             1,
             "#f0f921"
            ]
           ]
          },
          "colorway": [
           "#636efa",
           "#EF553B",
           "#00cc96",
           "#ab63fa",
           "#FFA15A",
           "#19d3f3",
           "#FF6692",
           "#B6E880",
           "#FF97FF",
           "#FECB52"
          ],
          "font": {
           "color": "#2a3f5f"
          },
          "geo": {
           "bgcolor": "white",
           "lakecolor": "white",
           "landcolor": "#E5ECF6",
           "showlakes": true,
           "showland": true,
           "subunitcolor": "white"
          },
          "hoverlabel": {
           "align": "left"
          },
          "hovermode": "closest",
          "mapbox": {
           "style": "light"
          },
          "paper_bgcolor": "white",
          "plot_bgcolor": "#E5ECF6",
          "polar": {
           "angularaxis": {
            "gridcolor": "white",
            "linecolor": "white",
            "ticks": ""
           },
           "bgcolor": "#E5ECF6",
           "radialaxis": {
            "gridcolor": "white",
            "linecolor": "white",
            "ticks": ""
           }
          },
          "scene": {
           "xaxis": {
            "backgroundcolor": "#E5ECF6",
            "gridcolor": "white",
            "gridwidth": 2,
            "linecolor": "white",
            "showbackground": true,
            "ticks": "",
            "zerolinecolor": "white"
           },
           "yaxis": {
            "backgroundcolor": "#E5ECF6",
            "gridcolor": "white",
            "gridwidth": 2,
            "linecolor": "white",
            "showbackground": true,
            "ticks": "",
            "zerolinecolor": "white"
           },
           "zaxis": {
            "backgroundcolor": "#E5ECF6",
            "gridcolor": "white",
            "gridwidth": 2,
            "linecolor": "white",
            "showbackground": true,
            "ticks": "",
            "zerolinecolor": "white"
           }
          },
          "shapedefaults": {
           "line": {
            "color": "#2a3f5f"
           }
          },
          "ternary": {
           "aaxis": {
            "gridcolor": "white",
            "linecolor": "white",
            "ticks": ""
           },
           "baxis": {
            "gridcolor": "white",
            "linecolor": "white",
            "ticks": ""
           },
           "bgcolor": "#E5ECF6",
           "caxis": {
            "gridcolor": "white",
            "linecolor": "white",
            "ticks": ""
           }
          },
          "title": {
           "x": 0.05
          },
          "xaxis": {
           "automargin": true,
           "gridcolor": "white",
           "linecolor": "white",
           "ticks": "",
           "title": {
            "standoff": 15
           },
           "zerolinecolor": "white",
           "zerolinewidth": 2
          },
          "yaxis": {
           "automargin": true,
           "gridcolor": "white",
           "linecolor": "white",
           "ticks": "",
           "title": {
            "standoff": 15
           },
           "zerolinecolor": "white",
           "zerolinewidth": 2
          }
         }
        },
        "title": {
         "text": "Şirketlerin Ülkelere Göre Toplam Piyasa Değeri"
        },
        "xaxis": {
         "title": {
          "text": "sene"
         }
        },
        "yaxis": {
         "title": {
          "text": "Trilyon Dolar"
         }
        }
       }
      }
     },
     "metadata": {},
     "output_type": "display_data"
    }
   ],
   "source": [
    "#Chat GPT\n",
    "\n",
    "import plotly.graph_objs as go\n",
    "\n",
    "countries = ['United States', 'United Kingdom', 'China', 'Japan', 'Germany', 'Canada', 'Switzerland', 'Russia', 'Italy', 'Spain', 'India', 'South Korea']\n",
    "dfs = [globals()[f\"df_{i}\"] for i in range(8, 23)]\n",
    "\n",
    "country_market_values = {country: [df[df['Country'] == country]['Market_Value'].sum()/1000000 for df in dfs] for country in countries}\n",
    "a = list(range(2008, 2023))\n",
    "\n",
    "fig_ülkeler = go.Figure(layout=dict(title=\"Şirketlerin Ülkelere Göre Toplam Piyasa Değeri\", xaxis_title='sene', yaxis_title='Trilyon Dolar'))\n",
    "\n",
    "colors = ['navy', 'maroon', 'yellow', 'pink', 'black', 'red', 'blue', 'grey', 'green', 'olive', 'orange', 'purple']\n",
    "for i, country in enumerate(countries):\n",
    "    fig_ülkeler.add_trace(go.Scatter(x=a, y=country_market_values[country], name=country, line=dict(width=3, color=colors[i])))\n",
    "\n",
    "fig_ülkeler.show()\n",
    "\n",
    "#Lejanttan ülkelere basılarak görselden çıkarilir veya görsele ekleyebilirsiniz. \n",
    "#Özellikle ABD ve Çin'i çıkarınca liste düzgün bir hale geliyor"
   ]
  },
  {
   "cell_type": "code",
   "execution_count": 8,
   "metadata": {},
   "outputs": [
    {
     "data": {
      "application/vnd.plotly.v1+json": {
       "config": {
        "plotlyServerURL": "https://plot.ly"
       },
       "data": [
        {
         "line": {
          "color": "navy",
          "width": 3
         },
         "name": "Banking",
         "type": "scatter",
         "x": [
          2008,
          2009,
          2010,
          2011,
          2012,
          2013,
          2014,
          2015,
          2016,
          2017,
          2018,
          2019,
          2020,
          2021,
          2022
         ],
         "y": [
          3.06557,
          1.23038,
          2.88535,
          3.285419,
          3.072467,
          3.373655,
          3.564303,
          3.807729,
          3.036965,
          3.520435,
          4.096505,
          2.989297,
          2.049261,
          2.471701,
          2.7245
         ]
        },
        {
         "line": {
          "color": "maroon",
          "width": 3
         },
         "name": "Drugs & Biotechnology",
         "type": "scatter",
         "x": [
          2008,
          2009,
          2010,
          2011,
          2012,
          2013,
          2014,
          2015,
          2016,
          2017,
          2018,
          2019,
          2020,
          2021,
          2022
         ],
         "y": [
          1.32415,
          1.0154,
          1.27982,
          1.010035,
          1.136319,
          1.513519,
          1.894492,
          2.439509,
          2.089724,
          1.949099,
          1.884169,
          2.451232,
          3.226794,
          2.938719,
          3.619248
         ]
        },
        {
         "line": {
          "color": "yellow",
          "width": 3
         },
         "name": "Oil & Gas Operations",
         "type": "scatter",
         "x": [
          2008,
          2009,
          2010,
          2011,
          2012,
          2013,
          2014,
          2015,
          2016,
          2017,
          2018,
          2019,
          2020,
          2021,
          2022
         ],
         "y": [
          3.52319,
          1.92723,
          2.661,
          3.250498,
          3.142626,
          2.682124,
          2.665486,
          2.142124,
          1.882714,
          2.094033,
          2.568534,
          2.347954,
          2.79197,
          3.015634,
          4.348053
         ]
        },
        {
         "line": {
          "color": "pink",
          "width": 3
         },
         "name": "Consumer Durables",
         "type": "scatter",
         "x": [
          2008,
          2009,
          2010,
          2011,
          2012,
          2013,
          2014,
          2015,
          2016,
          2017,
          2018,
          2019,
          2020,
          2021,
          2022
         ],
         "y": [
          0.68395,
          0.50437,
          0.63937,
          0.968328,
          1.119056,
          1.152515,
          1.395992,
          1.576935,
          1.490671,
          1.449298,
          1.684675,
          1.665263,
          1.756517,
          3.127155,
          3.179335
         ]
        },
        {
         "line": {
          "color": "black",
          "width": 3
         },
         "name": "Telecommunications services",
         "type": "scatter",
         "x": [
          2008,
          2009,
          2010,
          2011,
          2012,
          2013,
          2014,
          2015,
          2016,
          2017,
          2018,
          2019,
          2020,
          2021,
          2022
         ],
         "y": [
          0,
          0,
          0,
          1.111706,
          1.138177,
          1.124698,
          1.136198,
          1.393208,
          1.360895,
          1.115062,
          0.99517,
          0,
          0,
          0,
          0
         ]
        },
        {
         "line": {
          "color": "red",
          "width": 3
         },
         "name": "Food, Drink & Tobacco",
         "type": "scatter",
         "x": [
          2008,
          2009,
          2010,
          2011,
          2012,
          2013,
          2014,
          2015,
          2016,
          2017,
          2018,
          2019,
          2020,
          2021,
          2022
         ],
         "y": [
          0.96387,
          0.69929,
          0.97131,
          1.053689,
          1.324474,
          1.481417,
          1.41285,
          1.433321,
          1.784774,
          1.752716,
          1.451572,
          1.569082,
          1.507107,
          2.052558,
          2.113786
         ]
        },
        {
         "line": {
          "color": "blue",
          "width": 3
         },
         "name": "IT Software & Services",
         "type": "scatter",
         "x": [
          2008,
          2009,
          2010,
          2011,
          2012,
          2013,
          2014,
          2015,
          2016,
          2017,
          2018,
          2019,
          2020,
          2021,
          2022
         ],
         "y": [
          0.71277,
          0.51155,
          0.80655,
          0.974432,
          1.187126,
          1.257485,
          1.685699,
          1.774239,
          2.137743,
          2.572067,
          3.580105,
          3.9264544,
          4.722791,
          7.771493,
          6.152669
         ]
        },
        {
         "line": {
          "color": "grey",
          "width": 3
         },
         "name": "Insurance",
         "type": "scatter",
         "x": [
          2008,
          2009,
          2010,
          2011,
          2012,
          2013,
          2014,
          2015,
          2016,
          2017,
          2018,
          2019,
          2020,
          2021,
          2022
         ],
         "y": [
          0.72272,
          0.21623,
          0.37567,
          0.474835,
          0.36339,
          0.448327,
          0.589854,
          0.745947,
          0.646341,
          0.710614,
          0.692519,
          0.959011,
          0.713498,
          0.930173,
          1.082842
         ]
        },
        {
         "line": {
          "color": "green",
          "width": 3
         },
         "name": "Retailing",
         "type": "scatter",
         "x": [
          2008,
          2009,
          2010,
          2011,
          2012,
          2013,
          2014,
          2015,
          2016,
          2017,
          2018,
          2019,
          2020,
          2021,
          2022
         ],
         "y": [
          0.39111,
          0.39298,
          0.55827,
          0.410655,
          0.514994,
          0.775509,
          0.841939,
          1.05988,
          1.058935,
          1.2013,
          2.171795,
          2.410668,
          2.899757,
          4.225001,
          3.150684
         ]
        },
        {
         "line": {
          "color": "olive",
          "width": 3
         },
         "name": "Diversified Financials",
         "type": "scatter",
         "x": [
          2008,
          2009,
          2010,
          2011,
          2012,
          2013,
          2014,
          2015,
          2016,
          2017,
          2018,
          2019,
          2020,
          2021,
          2022
         ],
         "y": [
          0.69758,
          0.33045,
          0.61382,
          0.579856,
          0.533804,
          0.721536,
          0.953842,
          0.974844,
          0.957193,
          1.144304,
          1.59985,
          1.633544,
          1.536221,
          2.114502,
          2.536469
         ]
        },
        {
         "line": {
          "color": "orange",
          "width": 3
         },
         "name": "Conglomerates",
         "type": "scatter",
         "x": [
          2008,
          2009,
          2010,
          2011,
          2012,
          2013,
          2014,
          2015,
          2016,
          2017,
          2018,
          2019,
          2020,
          2021,
          2022
         ],
         "y": [
          0.67489,
          0.25466,
          0.45445,
          0.658157,
          0.584928,
          0.73692,
          0.814898,
          0.764801,
          0.817643,
          0.729395,
          0.641892,
          0.636492,
          0.436526,
          0.706976,
          0.605334
         ]
        },
        {
         "line": {
          "color": "purple",
          "width": 3
         },
         "name": "Semiconductors",
         "type": "scatter",
         "x": [
          2008,
          2009,
          2010,
          2011,
          2012,
          2013,
          2014,
          2015,
          2016,
          2017,
          2018,
          2019,
          2020,
          2021,
          2022
         ],
         "y": [
          0.25609,
          0.14965,
          0.25799,
          0.329094,
          0.371635,
          0.481622,
          0.604567,
          0.641138,
          0.631423,
          0.953566,
          1.372438,
          1.015673,
          1.241185,
          2.515678,
          2.372973
         ]
        }
       ],
       "layout": {
        "template": {
         "data": {
          "bar": [
           {
            "error_x": {
             "color": "#2a3f5f"
            },
            "error_y": {
             "color": "#2a3f5f"
            },
            "marker": {
             "line": {
              "color": "#E5ECF6",
              "width": 0.5
             },
             "pattern": {
              "fillmode": "overlay",
              "size": 10,
              "solidity": 0.2
             }
            },
            "type": "bar"
           }
          ],
          "barpolar": [
           {
            "marker": {
             "line": {
              "color": "#E5ECF6",
              "width": 0.5
             },
             "pattern": {
              "fillmode": "overlay",
              "size": 10,
              "solidity": 0.2
             }
            },
            "type": "barpolar"
           }
          ],
          "carpet": [
           {
            "aaxis": {
             "endlinecolor": "#2a3f5f",
             "gridcolor": "white",
             "linecolor": "white",
             "minorgridcolor": "white",
             "startlinecolor": "#2a3f5f"
            },
            "baxis": {
             "endlinecolor": "#2a3f5f",
             "gridcolor": "white",
             "linecolor": "white",
             "minorgridcolor": "white",
             "startlinecolor": "#2a3f5f"
            },
            "type": "carpet"
           }
          ],
          "choropleth": [
           {
            "colorbar": {
             "outlinewidth": 0,
             "ticks": ""
            },
            "type": "choropleth"
           }
          ],
          "contour": [
           {
            "colorbar": {
             "outlinewidth": 0,
             "ticks": ""
            },
            "colorscale": [
             [
              0,
              "#0d0887"
             ],
             [
              0.1111111111111111,
              "#46039f"
             ],
             [
              0.2222222222222222,
              "#7201a8"
             ],
             [
              0.3333333333333333,
              "#9c179e"
             ],
             [
              0.4444444444444444,
              "#bd3786"
             ],
             [
              0.5555555555555556,
              "#d8576b"
             ],
             [
              0.6666666666666666,
              "#ed7953"
             ],
             [
              0.7777777777777778,
              "#fb9f3a"
             ],
             [
              0.8888888888888888,
              "#fdca26"
             ],
             [
              1,
              "#f0f921"
             ]
            ],
            "type": "contour"
           }
          ],
          "contourcarpet": [
           {
            "colorbar": {
             "outlinewidth": 0,
             "ticks": ""
            },
            "type": "contourcarpet"
           }
          ],
          "heatmap": [
           {
            "colorbar": {
             "outlinewidth": 0,
             "ticks": ""
            },
            "colorscale": [
             [
              0,
              "#0d0887"
             ],
             [
              0.1111111111111111,
              "#46039f"
             ],
             [
              0.2222222222222222,
              "#7201a8"
             ],
             [
              0.3333333333333333,
              "#9c179e"
             ],
             [
              0.4444444444444444,
              "#bd3786"
             ],
             [
              0.5555555555555556,
              "#d8576b"
             ],
             [
              0.6666666666666666,
              "#ed7953"
             ],
             [
              0.7777777777777778,
              "#fb9f3a"
             ],
             [
              0.8888888888888888,
              "#fdca26"
             ],
             [
              1,
              "#f0f921"
             ]
            ],
            "type": "heatmap"
           }
          ],
          "heatmapgl": [
           {
            "colorbar": {
             "outlinewidth": 0,
             "ticks": ""
            },
            "colorscale": [
             [
              0,
              "#0d0887"
             ],
             [
              0.1111111111111111,
              "#46039f"
             ],
             [
              0.2222222222222222,
              "#7201a8"
             ],
             [
              0.3333333333333333,
              "#9c179e"
             ],
             [
              0.4444444444444444,
              "#bd3786"
             ],
             [
              0.5555555555555556,
              "#d8576b"
             ],
             [
              0.6666666666666666,
              "#ed7953"
             ],
             [
              0.7777777777777778,
              "#fb9f3a"
             ],
             [
              0.8888888888888888,
              "#fdca26"
             ],
             [
              1,
              "#f0f921"
             ]
            ],
            "type": "heatmapgl"
           }
          ],
          "histogram": [
           {
            "marker": {
             "pattern": {
              "fillmode": "overlay",
              "size": 10,
              "solidity": 0.2
             }
            },
            "type": "histogram"
           }
          ],
          "histogram2d": [
           {
            "colorbar": {
             "outlinewidth": 0,
             "ticks": ""
            },
            "colorscale": [
             [
              0,
              "#0d0887"
             ],
             [
              0.1111111111111111,
              "#46039f"
             ],
             [
              0.2222222222222222,
              "#7201a8"
             ],
             [
              0.3333333333333333,
              "#9c179e"
             ],
             [
              0.4444444444444444,
              "#bd3786"
             ],
             [
              0.5555555555555556,
              "#d8576b"
             ],
             [
              0.6666666666666666,
              "#ed7953"
             ],
             [
              0.7777777777777778,
              "#fb9f3a"
             ],
             [
              0.8888888888888888,
              "#fdca26"
             ],
             [
              1,
              "#f0f921"
             ]
            ],
            "type": "histogram2d"
           }
          ],
          "histogram2dcontour": [
           {
            "colorbar": {
             "outlinewidth": 0,
             "ticks": ""
            },
            "colorscale": [
             [
              0,
              "#0d0887"
             ],
             [
              0.1111111111111111,
              "#46039f"
             ],
             [
              0.2222222222222222,
              "#7201a8"
             ],
             [
              0.3333333333333333,
              "#9c179e"
             ],
             [
              0.4444444444444444,
              "#bd3786"
             ],
             [
              0.5555555555555556,
              "#d8576b"
             ],
             [
              0.6666666666666666,
              "#ed7953"
             ],
             [
              0.7777777777777778,
              "#fb9f3a"
             ],
             [
              0.8888888888888888,
              "#fdca26"
             ],
             [
              1,
              "#f0f921"
             ]
            ],
            "type": "histogram2dcontour"
           }
          ],
          "mesh3d": [
           {
            "colorbar": {
             "outlinewidth": 0,
             "ticks": ""
            },
            "type": "mesh3d"
           }
          ],
          "parcoords": [
           {
            "line": {
             "colorbar": {
              "outlinewidth": 0,
              "ticks": ""
             }
            },
            "type": "parcoords"
           }
          ],
          "pie": [
           {
            "automargin": true,
            "type": "pie"
           }
          ],
          "scatter": [
           {
            "fillpattern": {
             "fillmode": "overlay",
             "size": 10,
             "solidity": 0.2
            },
            "type": "scatter"
           }
          ],
          "scatter3d": [
           {
            "line": {
             "colorbar": {
              "outlinewidth": 0,
              "ticks": ""
             }
            },
            "marker": {
             "colorbar": {
              "outlinewidth": 0,
              "ticks": ""
             }
            },
            "type": "scatter3d"
           }
          ],
          "scattercarpet": [
           {
            "marker": {
             "colorbar": {
              "outlinewidth": 0,
              "ticks": ""
             }
            },
            "type": "scattercarpet"
           }
          ],
          "scattergeo": [
           {
            "marker": {
             "colorbar": {
              "outlinewidth": 0,
              "ticks": ""
             }
            },
            "type": "scattergeo"
           }
          ],
          "scattergl": [
           {
            "marker": {
             "colorbar": {
              "outlinewidth": 0,
              "ticks": ""
             }
            },
            "type": "scattergl"
           }
          ],
          "scattermapbox": [
           {
            "marker": {
             "colorbar": {
              "outlinewidth": 0,
              "ticks": ""
             }
            },
            "type": "scattermapbox"
           }
          ],
          "scatterpolar": [
           {
            "marker": {
             "colorbar": {
              "outlinewidth": 0,
              "ticks": ""
             }
            },
            "type": "scatterpolar"
           }
          ],
          "scatterpolargl": [
           {
            "marker": {
             "colorbar": {
              "outlinewidth": 0,
              "ticks": ""
             }
            },
            "type": "scatterpolargl"
           }
          ],
          "scatterternary": [
           {
            "marker": {
             "colorbar": {
              "outlinewidth": 0,
              "ticks": ""
             }
            },
            "type": "scatterternary"
           }
          ],
          "surface": [
           {
            "colorbar": {
             "outlinewidth": 0,
             "ticks": ""
            },
            "colorscale": [
             [
              0,
              "#0d0887"
             ],
             [
              0.1111111111111111,
              "#46039f"
             ],
             [
              0.2222222222222222,
              "#7201a8"
             ],
             [
              0.3333333333333333,
              "#9c179e"
             ],
             [
              0.4444444444444444,
              "#bd3786"
             ],
             [
              0.5555555555555556,
              "#d8576b"
             ],
             [
              0.6666666666666666,
              "#ed7953"
             ],
             [
              0.7777777777777778,
              "#fb9f3a"
             ],
             [
              0.8888888888888888,
              "#fdca26"
             ],
             [
              1,
              "#f0f921"
             ]
            ],
            "type": "surface"
           }
          ],
          "table": [
           {
            "cells": {
             "fill": {
              "color": "#EBF0F8"
             },
             "line": {
              "color": "white"
             }
            },
            "header": {
             "fill": {
              "color": "#C8D4E3"
             },
             "line": {
              "color": "white"
             }
            },
            "type": "table"
           }
          ]
         },
         "layout": {
          "annotationdefaults": {
           "arrowcolor": "#2a3f5f",
           "arrowhead": 0,
           "arrowwidth": 1
          },
          "autotypenumbers": "strict",
          "coloraxis": {
           "colorbar": {
            "outlinewidth": 0,
            "ticks": ""
           }
          },
          "colorscale": {
           "diverging": [
            [
             0,
             "#8e0152"
            ],
            [
             0.1,
             "#c51b7d"
            ],
            [
             0.2,
             "#de77ae"
            ],
            [
             0.3,
             "#f1b6da"
            ],
            [
             0.4,
             "#fde0ef"
            ],
            [
             0.5,
             "#f7f7f7"
            ],
            [
             0.6,
             "#e6f5d0"
            ],
            [
             0.7,
             "#b8e186"
            ],
            [
             0.8,
             "#7fbc41"
            ],
            [
             0.9,
             "#4d9221"
            ],
            [
             1,
             "#276419"
            ]
           ],
           "sequential": [
            [
             0,
             "#0d0887"
            ],
            [
             0.1111111111111111,
             "#46039f"
            ],
            [
             0.2222222222222222,
             "#7201a8"
            ],
            [
             0.3333333333333333,
             "#9c179e"
            ],
            [
             0.4444444444444444,
             "#bd3786"
            ],
            [
             0.5555555555555556,
             "#d8576b"
            ],
            [
             0.6666666666666666,
             "#ed7953"
            ],
            [
             0.7777777777777778,
             "#fb9f3a"
            ],
            [
             0.8888888888888888,
             "#fdca26"
            ],
            [
             1,
             "#f0f921"
            ]
           ],
           "sequentialminus": [
            [
             0,
             "#0d0887"
            ],
            [
             0.1111111111111111,
             "#46039f"
            ],
            [
             0.2222222222222222,
             "#7201a8"
            ],
            [
             0.3333333333333333,
             "#9c179e"
            ],
            [
             0.4444444444444444,
             "#bd3786"
            ],
            [
             0.5555555555555556,
             "#d8576b"
            ],
            [
             0.6666666666666666,
             "#ed7953"
            ],
            [
             0.7777777777777778,
             "#fb9f3a"
            ],
            [
             0.8888888888888888,
             "#fdca26"
            ],
            [
             1,
             "#f0f921"
            ]
           ]
          },
          "colorway": [
           "#636efa",
           "#EF553B",
           "#00cc96",
           "#ab63fa",
           "#FFA15A",
           "#19d3f3",
           "#FF6692",
           "#B6E880",
           "#FF97FF",
           "#FECB52"
          ],
          "font": {
           "color": "#2a3f5f"
          },
          "geo": {
           "bgcolor": "white",
           "lakecolor": "white",
           "landcolor": "#E5ECF6",
           "showlakes": true,
           "showland": true,
           "subunitcolor": "white"
          },
          "hoverlabel": {
           "align": "left"
          },
          "hovermode": "closest",
          "mapbox": {
           "style": "light"
          },
          "paper_bgcolor": "white",
          "plot_bgcolor": "#E5ECF6",
          "polar": {
           "angularaxis": {
            "gridcolor": "white",
            "linecolor": "white",
            "ticks": ""
           },
           "bgcolor": "#E5ECF6",
           "radialaxis": {
            "gridcolor": "white",
            "linecolor": "white",
            "ticks": ""
           }
          },
          "scene": {
           "xaxis": {
            "backgroundcolor": "#E5ECF6",
            "gridcolor": "white",
            "gridwidth": 2,
            "linecolor": "white",
            "showbackground": true,
            "ticks": "",
            "zerolinecolor": "white"
           },
           "yaxis": {
            "backgroundcolor": "#E5ECF6",
            "gridcolor": "white",
            "gridwidth": 2,
            "linecolor": "white",
            "showbackground": true,
            "ticks": "",
            "zerolinecolor": "white"
           },
           "zaxis": {
            "backgroundcolor": "#E5ECF6",
            "gridcolor": "white",
            "gridwidth": 2,
            "linecolor": "white",
            "showbackground": true,
            "ticks": "",
            "zerolinecolor": "white"
           }
          },
          "shapedefaults": {
           "line": {
            "color": "#2a3f5f"
           }
          },
          "ternary": {
           "aaxis": {
            "gridcolor": "white",
            "linecolor": "white",
            "ticks": ""
           },
           "baxis": {
            "gridcolor": "white",
            "linecolor": "white",
            "ticks": ""
           },
           "bgcolor": "#E5ECF6",
           "caxis": {
            "gridcolor": "white",
            "linecolor": "white",
            "ticks": ""
           }
          },
          "title": {
           "x": 0.05
          },
          "xaxis": {
           "automargin": true,
           "gridcolor": "white",
           "linecolor": "white",
           "ticks": "",
           "title": {
            "standoff": 15
           },
           "zerolinecolor": "white",
           "zerolinewidth": 2
          },
          "yaxis": {
           "automargin": true,
           "gridcolor": "white",
           "linecolor": "white",
           "ticks": "",
           "title": {
            "standoff": 15
           },
           "zerolinecolor": "white",
           "zerolinewidth": 2
          }
         }
        },
        "title": {
         "text": "Şirketlerin Sektörlere Göre Toplam Piyasa Değeri"
        },
        "xaxis": {
         "title": {
          "text": "sene"
         }
        },
        "yaxis": {
         "title": {
          "text": "Trilyon Dolar"
         }
        }
       }
      }
     },
     "metadata": {},
     "output_type": "display_data"
    }
   ],
   "source": [
    "sektörler = [\n",
    "    'Banking',\n",
    "    'Drugs & Biotechnology',\n",
    "    'Oil & Gas Operations', \n",
    "    'Consumer Durables', \n",
    "    'Telecommunications services', \n",
    "    'Food, Drink & Tobacco',\n",
    "    'IT Software & Services',\n",
    "    'Insurance',\n",
    "    'Retailing',\n",
    "    'Diversified Financials',\n",
    "    'Conglomerates',\n",
    "    'Semiconductors'\n",
    "]\n",
    "\n",
    "\n",
    "dfs = [globals()[f\"df_{i}\"] for i in range(8, 23)]\n",
    "\n",
    "industry_market_values = {sektor: [df[df['Industry'] == sektor]['Market_Value'].sum()/1000000 for df in dfs] for sektor in sektörler}\n",
    "a = list(range(2008, 2023))\n",
    "\n",
    "fig_ülkeler = go.Figure(layout=dict(title=\"Şirketlerin Sektörlere Göre Toplam Piyasa Değeri\", xaxis_title='sene', yaxis_title='Trilyon Dolar'))\n",
    "\n",
    "colors = ['navy', 'maroon', 'yellow', 'pink', 'black', 'red', 'blue', 'grey', 'green', 'olive', 'orange', 'purple']\n",
    "for i, sektor in enumerate(sektörler):\n",
    "    fig_ülkeler.add_trace(go.Scatter(x=a, y=industry_market_values[sektor], name=sektor, line=dict(width=3, color=colors[i])))\n",
    "\n",
    "fig_ülkeler.show()"
   ]
  },
  {
   "cell_type": "code",
   "execution_count": 9,
   "metadata": {},
   "outputs": [
    {
     "data": {
      "image/png": "[encoded data removed]",
      "text/plain": [
       "<Figure size 1500x3000 with 4 Axes>"
      ]
     },
     "metadata": {},
     "output_type": "display_data"
    }
   ],
   "source": [
    "(\n",
    "    df_15\n",
    "    .drop(columns='Rank_nr')\n",
    "    .select_dtypes('number')\n",
    "    .apply(lambda x: x / x.abs().max(), axis=0)\n",
    "    .plot(\n",
    "        kind='hist', bins=50, subplots=True, grid=True, title=\"2015 Top 200 Genel Dağılım\",\n",
    "        sharex= True, sharey=False, legend=True,\n",
    "        figsize=(15, 30)\n",
    "    )\n",
    ")\n",
    "\n",
    "for ax in plt.gcf().axes:\n",
    "    ax.legend(loc=1)"
   ]
  },
  {
   "cell_type": "code",
   "execution_count": 10,
   "metadata": {},
   "outputs": [
    {
     "data": {
      "image/png": "[encoded data removed]",
      "text/plain": [
       "<Figure size 1000x1000 with 20 Axes>"
      ]
     },
     "metadata": {},
     "output_type": "display_data"
    }
   ],
   "source": [
    "sns.pairplot(df_15.drop(columns='Rank_nr'))\n",
    "plt.show()"
   ]
  }
 ],
 "metadata": {
  "kernelspec": {
   "display_name": "isar",
   "language": "python",
   "name": "python3"
  },
  "language_info": {
   "codemirror_mode": {
    "name": "ipython",
    "version": 3
   },
   "file_extension": ".py",
   "mimetype": "text/x-python",
   "name": "python",
   "nbconvert_exporter": "python",
   "pygments_lexer": "ipython3",
   "version": "3.9.16"
  },
  "orig_nbformat": 4
 },
 "nbformat": 4,
 "nbformat_minor": 2
}
